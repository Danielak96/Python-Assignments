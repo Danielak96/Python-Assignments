{
 "cells": [
  {
   "cell_type": "code",
   "execution_count": 1,
   "metadata": {},
   "outputs": [],
   "source": [
    "#Create a Python file called courier.py in this folder.\n",
    "#● You need to design a program for a courier company to calculate the cost of sending a parcel.\n",
    "#● Ask the user to enter the price of the package they would like to purchase.\n",
    "#● Ask the user to enter the total distance of the delivery in kms.\n",
    "#● Now add on the delivery costs to get the final cost of the product:\n",
    "#o There are four categories to factor in when determining a parcel’s final cost, each with two options based on their delivery preferences. \n",
    "# (Use an if-else statement based on the choice they make.)\n",
    "#▪ Air R0.36 per km or freight R0.25 per km\n",
    "#▪ Full insurance R50.00 or limited insurance R25.00\n",
    "#▪ Gift R15.00 or no gift R0.00\n",
    "#▪ Priority R100.00 or standard delivery R20.00\n",
    "#● Work out the total cost of the package based on the selection in each category.\n",
    "\n"
   ]
  },
  {
   "cell_type": "code",
   "execution_count": 1,
   "metadata": {},
   "outputs": [
    {
     "name": "stdout",
     "output_type": "stream",
     "text": [
      "Your Total Cost is 301.0\n"
     ]
    }
   ],
   "source": [
    "parcelprice = float(input(\"How much is the price of the parcel\"))\n",
    "\n",
    "distance = float(input(\"What is the total distance of the delivery in KM?\"))\n",
    "\n",
    "StdDelivery = 20\n",
    "\n",
    "AirorFR = str(input(\"Air or Freight?\"))\n",
    "if AirorFR == \"Air\":\n",
    "    AirCost = 0.36*distance\n",
    "elif AirorFR == \"Freight\":\n",
    "    AirCost = 0.25*distance\n",
    "\n",
    "\n",
    "Insurance = str(input(\"Full or Limited Insurance?\"))\n",
    "if Insurance == \"Full\":\n",
    "    Insurance = 50\n",
    "elif Insurance == \"Limited\":\n",
    "    Insurance = 25\n",
    "\n",
    "\n",
    "GiftorNot = str(input(\"Gift or No Gift?\"))\n",
    "if GiftorNot == \"Gift\":\n",
    "    Gift = 15\n",
    "elif GiftorNot == \"No Gift\":\n",
    "    Gift = 0\n",
    "\n",
    "\n",
    "PriorityorSTD = str(input(\"Priority or Standard?\"))\n",
    "if PriorityorSTD == \"Priority\":\n",
    "    PorSTD = 100\n",
    "elif PriorityorSTD == \"Standard\":\n",
    "    PorSTD = 20\n",
    "\n",
    "\n",
    "TotalCost = parcelprice + AirCost + Insurance + Gift + PorSTD \n",
    "\n",
    "print(\"Your Total Cost is\",TotalCost,)"
   ]
  }
 ],
 "metadata": {
  "kernelspec": {
   "display_name": "Python 3.10.5 64-bit",
   "language": "python",
   "name": "python3"
  },
  "language_info": {
   "codemirror_mode": {
    "name": "ipython",
    "version": 3
   },
   "file_extension": ".py",
   "mimetype": "text/x-python",
   "name": "python",
   "nbconvert_exporter": "python",
   "pygments_lexer": "ipython3",
   "version": "3.10.5 (tags/v3.10.5:f377153, Jun  6 2022, 16:14:13) [MSC v.1929 64 bit (AMD64)]"
  },
  "orig_nbformat": 4,
  "vscode": {
   "interpreter": {
    "hash": "aeb85421b063f186d75957918962d4ae02ad919a59141ebea0023b107021ffbe"
   }
  }
 },
 "nbformat": 4,
 "nbformat_minor": 2
}

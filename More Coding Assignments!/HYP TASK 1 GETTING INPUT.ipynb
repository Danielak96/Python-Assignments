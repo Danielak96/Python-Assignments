{
 "cells": [
  {
   "cell_type": "code",
   "execution_count": 1,
   "metadata": {},
   "outputs": [],
   "source": [
    "#Write a simple computer program that asks a user to input their name and email address, \n",
    "# and then displays a message that tells the person that you will be contacting them using the email address they entered.\n",
    "\n",
    "#For example:\n",
    "#If a user enters Mike as their name and mike@example.com as their email, the output would be:\n",
    "\n",
    "#Hi Mike! We will be contacting you shortly at mike@example.com\n",
    "\n",
    "#Remember to use the input keyword to get information and the print keyword to output information to the user. \n",
    "# If you need to review the syntax for these keywords, refer back to the mini-lesson above."
   ]
  },
  {
   "cell_type": "code",
   "execution_count": 3,
   "metadata": {},
   "outputs": [
    {
     "name": "stdout",
     "output_type": "stream",
     "text": [
      "Thank you Femi ! We will be contacting you shortly at Funshosaka@gmail.com , be sure to check your spam :)\n"
     ]
    }
   ],
   "source": [
    "name = str(input(\"What is your name?\"))\n",
    "\n",
    "email = str(input(\"Whar is your email address?\"))\n",
    "\n",
    "print(\"Thank you\", name, \"!\", \"We will be contacting you shortly at\", email,\", be sure to check your spam :)\")"
   ]
  }
 ],
 "metadata": {
  "kernelspec": {
   "display_name": "Python 3.10.5 64-bit",
   "language": "python",
   "name": "python3"
  },
  "language_info": {
   "codemirror_mode": {
    "name": "ipython",
    "version": 3
   },
   "file_extension": ".py",
   "mimetype": "text/x-python",
   "name": "python",
   "nbconvert_exporter": "python",
   "pygments_lexer": "ipython3",
   "version": "3.10.5"
  },
  "orig_nbformat": 4,
  "vscode": {
   "interpreter": {
    "hash": "aeb85421b063f186d75957918962d4ae02ad919a59141ebea0023b107021ffbe"
   }
  }
 },
 "nbformat": 4,
 "nbformat_minor": 2
}

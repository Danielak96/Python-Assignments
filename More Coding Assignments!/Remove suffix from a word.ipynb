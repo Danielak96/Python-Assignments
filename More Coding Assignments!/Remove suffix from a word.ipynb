{
 "cells": [
  {
   "cell_type": "code",
   "execution_count": 21,
   "metadata": {},
   "outputs": [],
   "source": [
    "\n",
    "# ness is a common suffix that means 'state of being'.\n",
    "# In this activity, your sister needs to find the original root word by removing the ness suffix. \n",
    "# But of course there are pesky spelling rules: If the root word originally ended in a consonant followed by a 'y', then the 'y' was changed to 'i'. \n",
    "# Removing 'ness' needs to restore the 'y' in those root words. e.g. happiness --> happi --> happy.\n",
    "# Implement the remove_suffix_ness(<word>) function that takes in a word str, and returns the root word without the ness suffix."
   ]
  },
  {
   "cell_type": "code",
   "execution_count": 23,
   "metadata": {},
   "outputs": [
    {
     "name": "stdout",
     "output_type": "stream",
     "text": [
      "happy\n"
     ]
    }
   ],
   "source": [
    "remove_suffix_ness = str(input(\"Enter the word you'd like to remove the 'ness' from\"))\n",
    "\n",
    "if remove_suffix_ness[-5:] == \"iness\":\n",
    "        remove_suffix_ness1 = remove_suffix_ness.replace(\"iness\", \"y\")\n",
    "        print(remove_suffix_ness1)\n",
    "elif remove_suffix_ness[-4:] == \"ness\":\n",
    "        remove_suffix_ness2 = remove_suffix_ness.replace(\"ness\", \"\")\n",
    "        print(remove_suffix_ness2)\n",
    "else: print(\"Invalid entry, please try again\")"
   ]
  }
 ],
 "metadata": {
  "kernelspec": {
   "display_name": "Python 3",
   "language": "python",
   "name": "python3"
  },
  "language_info": {
   "codemirror_mode": {
    "name": "ipython",
    "version": 3
   },
   "file_extension": ".py",
   "mimetype": "text/x-python",
   "name": "python",
   "nbconvert_exporter": "python",
   "pygments_lexer": "ipython3",
   "version": "3.10.5"
  },
  "orig_nbformat": 4,
  "vscode": {
   "interpreter": {
    "hash": "aeb85421b063f186d75957918962d4ae02ad919a59141ebea0023b107021ffbe"
   }
  }
 },
 "nbformat": 4,
 "nbformat_minor": 2
}

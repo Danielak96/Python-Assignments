{
 "cells": [
  {
   "cell_type": "code",
   "execution_count": 1,
   "metadata": {},
   "outputs": [],
   "source": [
    "# For this task you have the chance to show what you’ve learned about implementing repetition in code. \n",
    "# You are required to create a program that uses the while loop structure.\n",
    "\n",
    "# Write a program that always asks the user to enter a number. \n",
    "# When the user enters the negative number -1, the program should stop requesting the user to enter a number. \n",
    "# The program must then calculate the average of the numbers entered excluding the -1.\n",
    "\n",
    "# Make use of the while loop repetition structure to implement the program."
   ]
  },
  {
   "cell_type": "code",
   "execution_count": 38,
   "metadata": {},
   "outputs": [],
   "source": [
    "def repactions():\n",
    "\n",
    "    next_input = 0\n",
    "    inputs = []\n",
    "\n",
    "    while True:\n",
    "        next_input = int(input('Please enter a number:'))\n",
    "        if next_input == -1:\n",
    "            break\n",
    "\n",
    "        else:\n",
    "            inputs.append(next_input)\n",
    "    return sum(inputs) / len(inputs)\n"
   ]
  },
  {
   "cell_type": "code",
   "execution_count": 43,
   "metadata": {},
   "outputs": [
    {
     "data": {
      "text/plain": [
       "4.0"
      ]
     },
     "execution_count": 43,
     "metadata": {},
     "output_type": "execute_result"
    }
   ],
   "source": [
    "repactions()"
   ]
  },
  {
   "cell_type": "code",
   "execution_count": null,
   "metadata": {},
   "outputs": [],
   "source": [
    "#ANSWER IS BELOW, THE REST ARE JOTTINGS"
   ]
  },
  {
   "cell_type": "code",
   "execution_count": 8,
   "metadata": {},
   "outputs": [
    {
     "name": "stdout",
     "output_type": "stream",
     "text": [
      "13.2\n"
     ]
    }
   ],
   "source": [
    "number_input = 0\n",
    "listofnumbers = []\n",
    "\n",
    "while True:\n",
    "        number_input = int(input('Please enter a number:'))\n",
    "        if number_input == -1:\n",
    "            break\n",
    "\n",
    "        else:\n",
    "            listofnumbers.append(number_input)\n",
    "print(sum(listofnumbers) / len(listofnumbers))"
   ]
  },
  {
   "cell_type": "code",
   "execution_count": 2,
   "metadata": {},
   "outputs": [
    {
     "name": "stdout",
     "output_type": "stream",
     "text": [
      "2.5\n"
     ]
    }
   ],
   "source": [
    "listofnumbers = []\n",
    "\n",
    "while True:\n",
    "        number_input = int(input('Please enter a number:'))\n",
    "        if number_input == -1:\n",
    "            break\n",
    "\n",
    "        else:\n",
    "            listofnumbers.append(number_input)\n",
    "print(sum(listofnumbers) / len(listofnumbers))"
   ]
  },
  {
   "cell_type": "code",
   "execution_count": null,
   "metadata": {},
   "outputs": [],
   "source": [
    "number_input = 0\n",
    "listofnumbers = []\n",
    "\n",
    "while True:\n",
    "        number_input = int(input('Please enter a number:'))\n",
    "        if number_input == -1:\n",
    "            break\n",
    "\n",
    "        else:\n",
    "            listofnumbers.append(number_input);\n",
    "            print(sum(listofnumbers) / len(listofnumbers));"
   ]
  }
 ],
 "metadata": {
  "kernelspec": {
   "display_name": "Python 3.10.5 64-bit",
   "language": "python",
   "name": "python3"
  },
  "language_info": {
   "codemirror_mode": {
    "name": "ipython",
    "version": 3
   },
   "file_extension": ".py",
   "mimetype": "text/x-python",
   "name": "python",
   "nbconvert_exporter": "python",
   "pygments_lexer": "ipython3",
   "version": "3.10.5"
  },
  "orig_nbformat": 4,
  "vscode": {
   "interpreter": {
    "hash": "aeb85421b063f186d75957918962d4ae02ad919a59141ebea0023b107021ffbe"
   }
  }
 },
 "nbformat": 4,
 "nbformat_minor": 2
}

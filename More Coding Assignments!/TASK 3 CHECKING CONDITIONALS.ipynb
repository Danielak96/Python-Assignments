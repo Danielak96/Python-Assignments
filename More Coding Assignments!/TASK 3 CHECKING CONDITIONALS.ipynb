{
 "cells": [
  {
   "cell_type": "code",
   "execution_count": null,
   "metadata": {},
   "outputs": [],
   "source": [
    "#At your school, the front gate is locked at night for safety. \n",
    "# You often need to study late on campus. There is sometimes a night guard on duty who can let you in. \n",
    "# You want to be able to check if you can access the school campus at a particular time.\n",
    "\n",
    "# The current hour of the day is given in the range 0, 1, 2 … 23 and the guard’s presence is indicated by with a True/False boolean.\n",
    "\n",
    "# If the hour is from 7 to 17, you do not need the guard to be there as the gate is open\n",
    "# If the hour is before 7 or after 17, the guard must be there to let you in\n",
    "# Using predefined variables for the hour of the day and whether the guard is present or not, write an if statement to print out whether you can get in.\n",
    "\n",
    "# Example start:\n",
    "# hour = 4\n",
    "# guard = True\n",
    "\n",
    "# Example output:\n",
    "# 'You're in!'\n",
    "\n",
    "# Make use of the if statement structure to implement the program."
   ]
  },
  {
   "cell_type": "code",
   "execution_count": 12,
   "metadata": {},
   "outputs": [
    {
     "name": "stdout",
     "output_type": "stream",
     "text": [
      "Guard: You can enter the library\n"
     ]
    }
   ],
   "source": [
    "hour = int(input(\"What hour of the day is it?\"))\n",
    "\n",
    "if hour in range(7,18):\n",
    "    print(\"No Guard, you can enter freely\")\n",
    "elif hour in range(0,7):\n",
    "    print(\"Guard: You can enter the library\")\n",
    "elif hour in range(18,24):\n",
    "    print(\"Guard: You can enter the library\")\n",
    "else:\n",
    "    print(\"Invalid hour, please choose a number between 0 and 23\")\n",
    "\n"
   ]
  }
 ],
 "metadata": {
  "kernelspec": {
   "display_name": "Python 3.10.5 64-bit",
   "language": "python",
   "name": "python3"
  },
  "language_info": {
   "codemirror_mode": {
    "name": "ipython",
    "version": 3
   },
   "file_extension": ".py",
   "mimetype": "text/x-python",
   "name": "python",
   "nbconvert_exporter": "python",
   "pygments_lexer": "ipython3",
   "version": "3.10.5"
  },
  "orig_nbformat": 4,
  "vscode": {
   "interpreter": {
    "hash": "aeb85421b063f186d75957918962d4ae02ad919a59141ebea0023b107021ffbe"
   }
  }
 },
 "nbformat": 4,
 "nbformat_minor": 2
}

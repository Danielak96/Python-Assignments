{
 "cells": [
  {
   "cell_type": "code",
   "execution_count": null,
   "metadata": {},
   "outputs": [],
   "source": [
    "# You are going to be creating a program that represents the movements of the line for the lady's bathroom. \n",
    "# To begin, create a list that represents the line, it must contain the five names of the women initially waiting (you can make these up).\n",
    "\n",
    "# The following events occur, and you must represent them in the list and print the list out after each action.\n",
    "\n",
    "# A woman named Jenny arrives who only wanted to check her lipstick, she asks to join the front of the line, and all the women let her.\n",
    "#The woman third in line’s phone started ringing, and she left the line to answer.\n",
    "# A new woman named Alice joined the line"
   ]
  },
  {
   "cell_type": "code",
   "execution_count": 10,
   "metadata": {},
   "outputs": [
    {
     "name": "stdout",
     "output_type": "stream",
     "text": [
      "Jenny: Hi guys, I know you all have been waiting but would it be okay to just check my lipstick? Going on a date :D\n",
      "Line: Yes that's fine\n",
      "['Jenny', 'Moyin', 'Shanelle', 'Nimca', 'Elizabeth', 'Christina']\n",
      "*Shanelle's phone rings*\n",
      "Shanelle: 'Hi are you here? Okay I'm coming to get you now.' Hey guys I'll be leaving the line.\n",
      "Line: No worries\n",
      "['Jenny', 'Moyin', 'Nimca', 'Elizabeth', 'Christina']\n",
      "Alice: Hi there, is this the line for the bathroom?\n",
      "Christina: Yes :)\n",
      "Alice: Okay thanks!\n",
      "*Alice joins the back of the line*\n",
      "['Jenny', 'Moyin', 'Nimca', 'Elizabeth', 'Christina', 'Alice']\n"
     ]
    }
   ],
   "source": [
    "line = [\"Moyin\",\"Shanelle\",\"Nimca\",\"Elizabeth\",\"Christina\"]\n",
    "print(\"Jenny: Hi guys, I know you all have been waiting but would it be okay to just check my lipstick? Going on a date :D\")\n",
    "print(\"Line: Yes that's fine\")\n",
    "line.insert(0,\"Jenny\")\n",
    "print(line)\n",
    "print(\"*Shanelle's phone rings*\")\n",
    "print(\"Shanelle: 'Hi are you here? Okay I'm coming to get you now.' Hey guys I'll be leaving the line.\")\n",
    "print(\"Line: No worries\")\n",
    "line.remove(\"Shanelle\")\n",
    "print(line)\n",
    "print(\"Alice: Hi there, is this the line for the bathroom?\")\n",
    "print(\"Christina: Yes :)\")\n",
    "print(\"Alice: Okay thanks!\")\n",
    "print(\"*Alice joins the back of the line*\")\n",
    "line.append(\"Alice\")\n",
    "print(line)"
   ]
  }
 ],
 "metadata": {
  "kernelspec": {
   "display_name": "Python 3.10.5 64-bit",
   "language": "python",
   "name": "python3"
  },
  "language_info": {
   "codemirror_mode": {
    "name": "ipython",
    "version": 3
   },
   "file_extension": ".py",
   "mimetype": "text/x-python",
   "name": "python",
   "nbconvert_exporter": "python",
   "pygments_lexer": "ipython3",
   "version": "3.10.5"
  },
  "orig_nbformat": 4,
  "vscode": {
   "interpreter": {
    "hash": "aeb85421b063f186d75957918962d4ae02ad919a59141ebea0023b107021ffbe"
   }
  }
 },
 "nbformat": 4,
 "nbformat_minor": 2
}

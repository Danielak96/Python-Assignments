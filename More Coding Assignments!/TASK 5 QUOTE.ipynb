{
 "cells": [
  {
   "cell_type": "code",
   "execution_count": null,
   "metadata": {},
   "outputs": [],
   "source": [
    "#TASK 5 QUESTION\n",
    "\n",
    "#For this challenge, create a program that determines the number of occurrences of each letter in the quote: \n",
    "# \"You can have data without information, but you cannot have information without data.\", and output a list with each letter and its frequency.\n"
   ]
  },
  {
   "cell_type": "code",
   "execution_count": 1,
   "metadata": {},
   "outputs": [
    {
     "name": "stdout",
     "output_type": "stream",
     "text": [
      "a ; 10\n",
      "b ; 1\n",
      "c ; 2\n",
      "d ; 2\n",
      "e ; 2\n",
      "f ; 2\n",
      "h ; 4\n",
      "i ; 6\n",
      "m ; 2\n",
      "n ; 7\n",
      "o ; 9\n",
      "r ; 2\n",
      "t ; 10\n",
      "u ; 5\n",
      "v ; 2\n",
      "w ; 2\n",
      "y ; 2\n"
     ]
    }
   ],
   "source": [
    "quote = str(\"You can have data without information, but you cannot have information without data.\")\n",
    "Quote = quote.lower()\n",
    "listofletters = [\"a\",\"b\",\"c\",\"d\",\"e\",\"f\",\"g\",\"h\",\"i\",\"j\",\"k\",\"l\",\"m\",\"n\",\"o\",\"p\",\"q\",\"r\",\"s\",\"t\",\"u\",\"v\",\"w\",\"x\",\"y\",\"z\"]\n",
    "for x in listofletters:\n",
    "    freq = 0\n",
    "    for y in Quote:\n",
    "        if y == x:\n",
    "            freq = freq + 1\n",
    "    if freq != 0:\n",
    "        print(x,\";\",freq) \n",
    "\n"
   ]
  },
  {
   "cell_type": "code",
   "execution_count": 8,
   "metadata": {},
   "outputs": [
    {
     "name": "stdout",
     "output_type": "stream",
     "text": [
      "2\n",
      "3\n",
      "4\n",
      "5\n",
      "6\n",
      "7\n",
      "8\n",
      "9\n"
     ]
    }
   ],
   "source": [
    "for i in range(2,10):\n",
    "        print(i)"
   ]
  },
  {
   "cell_type": "code",
   "execution_count": 9,
   "metadata": {},
   "outputs": [
    {
     "name": "stdout",
     "output_type": "stream",
     "text": [
      "apple\n",
      "banana\n",
      "cherry\n"
     ]
    }
   ],
   "source": [
    "thislist = [\"apple\", \"banana\", \"cherry\"]\n",
    "for x in thislist:\n",
    "  print(x)"
   ]
  }
 ],
 "metadata": {
  "kernelspec": {
   "display_name": "Python 3.10.5 64-bit",
   "language": "python",
   "name": "python3"
  },
  "language_info": {
   "codemirror_mode": {
    "name": "ipython",
    "version": 3
   },
   "file_extension": ".py",
   "mimetype": "text/x-python",
   "name": "python",
   "nbconvert_exporter": "python",
   "pygments_lexer": "ipython3",
   "version": "3.10.5"
  },
  "orig_nbformat": 4,
  "vscode": {
   "interpreter": {
    "hash": "aeb85421b063f186d75957918962d4ae02ad919a59141ebea0023b107021ffbe"
   }
  }
 },
 "nbformat": 4,
 "nbformat_minor": 2
}

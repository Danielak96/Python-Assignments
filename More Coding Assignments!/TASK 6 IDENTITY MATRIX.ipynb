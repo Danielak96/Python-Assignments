{
 "cells": [
  {
   "cell_type": "code",
   "execution_count": 2,
   "metadata": {},
   "outputs": [],
   "source": [
    "#For this task, you are required to create a program that prints the mirror image of an n-dimensional identity matrix (where n is input by the user).\n",
    "\n",
    "#An identity matrix is defined as a square matrix with 1's running from the top left of the square to the bottom right. The rest are 0's. \n",
    "#The identity matrix has applications ranging from machine learning to the general theory of relativity."
   ]
  },
  {
   "cell_type": "code",
   "execution_count": 1,
   "metadata": {},
   "outputs": [
    {
     "name": "stdout",
     "output_type": "stream",
     "text": [
      "0 0 0 0 1 \n",
      "0 0 0 1 0 \n",
      "0 0 1 0 0 \n",
      "0 1 0 0 0 \n",
      "1 0 0 0 0 \n"
     ]
    }
   ],
   "source": [
    "number = int(input(\"enter your number\"))\n",
    "for i in range(0, number):\n",
    "    for j in range(0, number):\n",
    "        if i + j + 1 == number:\n",
    "            print(1, sep=\" \", end=\" \")\n",
    "        else:\n",
    "            print(0, sep=\" \", end=\" \")\n",
    "    print()"
   ]
  }
 ],
 "metadata": {
  "kernelspec": {
   "display_name": "Python 3.10.5 64-bit",
   "language": "python",
   "name": "python3"
  },
  "language_info": {
   "codemirror_mode": {
    "name": "ipython",
    "version": 3
   },
   "file_extension": ".py",
   "mimetype": "text/x-python",
   "name": "python",
   "nbconvert_exporter": "python",
   "pygments_lexer": "ipython3",
   "version": "3.10.5"
  },
  "orig_nbformat": 4,
  "vscode": {
   "interpreter": {
    "hash": "aeb85421b063f186d75957918962d4ae02ad919a59141ebea0023b107021ffbe"
   }
  }
 },
 "nbformat": 4,
 "nbformat_minor": 2
}

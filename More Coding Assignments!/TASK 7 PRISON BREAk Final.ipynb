{
 "cells": [
  {
   "cell_type": "code",
   "execution_count": 1,
   "metadata": {},
   "outputs": [],
   "source": [
    "#For this task, you are required to create a program that determines the number of freed prisoners in the unique prison arrangement described below.\n",
    "\n",
    "#A prison can be represented as a list of cells. Each cell contains exactly one prisoner. A 1 represents an unlocked cell and a 0 represents a locked cell.\n",
    "\n",
    "#[1, 1, 0, 0, 0, 1, 0]\n",
    "\n",
    "#Starting inside the leftmost cell, you are tasked with seeing how many prisoners you can set free, with a catch. \n",
    "#Each time you free a prisoner, the locked cells become unlocked, and the unlocked cells become locked again. \n",
    "#You can only move from left to right and not go back.\n",
    "\n",
    "#So, if we use the example above:\n",
    "\n",
    "#[1, 1, 0, 0, 0, 1, 0]\n",
    "# You free the prisoner in the 1st cell\n",
    "# The locked cells 3rd, 4th, 5th and 7th become unlocked and the unlocked cells 1st, 2nd and 6th become locked\n",
    "\n",
    "#[0, 0, 1, 1, 1, 0, 1] \n",
    "# You free the prisoner in the 3rd cell (2nd one locked).\n",
    "# The locked cell 1st, 2nd and 6th become unlocked and the unlocked cells 3rd, 4th, 5th and 7th become locked\n",
    "\n",
    "#[1, 1, 0, 0, 0, 1, 0]\n",
    "# You free the prisoner in the 6th cell (3rd, 4th and 5th locked).\n",
    "# The locked cells 3rd, 4th, 5th and 7th become unlocked and the unlocked cells 1st, 2nd and 6th become locked\n",
    "\n",
    "#[0, 0, 1, 1, 1, 0, 1]\n",
    "# You free the prisoner in the 7th cell - and you are done!\n",
    "\n",
    "#Here, we have set free 4 prisoners in total.\n",
    "#Create a program that, given this unique prison arrangement, returns the number of freed prisoners.\n"
   ]
  },
  {
   "cell_type": "code",
   "execution_count": 35,
   "metadata": {},
   "outputs": [
    {
     "name": "stdout",
     "output_type": "stream",
     "text": [
      "[1, 1, 0, 0, 0, 1, 0]\n",
      "[0, 0, 1, 1, 1, 0, 1]\n",
      "[1, 1, 0, 0, 0, 1, 0]\n",
      "[0, 0, 1, 1, 1, 0, 1]\n",
      "[1, 1, 0, 0, 0, 1, 0]\n"
     ]
    }
   ],
   "source": [
    "prisoners = [1,1,0,0,0,1,0]\n",
    "\n",
    "print(prisoners)\n",
    "\n",
    "freed = []\n",
    "\n",
    "for x in prisoners:\n",
    "    if x == 1:\n",
    "        x = x - 1\n",
    "    else: x = x + 1\n",
    "    freed.append(x)\n",
    "\n",
    "print(freed)\n",
    "\n",
    "freed1 = []\n",
    "\n",
    "for x in freed:\n",
    "    if x == 1:\n",
    "        x = x - 1\n",
    "    else: x = x + 1\n",
    "    freed1.append(x)\n",
    "\n",
    "print(freed1)\n",
    "\n",
    "freed2 = []\n",
    "\n",
    "for x in freed1:\n",
    "    if x == 1:\n",
    "        x = x - 1\n",
    "    else: x = x + 1\n",
    "    freed2.append(x)\n",
    "\n",
    "print(freed2)\n",
    "\n",
    "freed3 = []\n",
    "\n",
    "for x in freed2:\n",
    "    if x == 1:\n",
    "        x = x - 1\n",
    "    else: x = x + 1\n",
    "    freed3.append(x)\n",
    "\n",
    "print(freed3)\n",
    "    \n",
    "\n",
    "\n",
    " "
   ]
  }
 ],
 "metadata": {
  "kernelspec": {
   "display_name": "Python 3.10.5 64-bit",
   "language": "python",
   "name": "python3"
  },
  "language_info": {
   "codemirror_mode": {
    "name": "ipython",
    "version": 3
   },
   "file_extension": ".py",
   "mimetype": "text/x-python",
   "name": "python",
   "nbconvert_exporter": "python",
   "pygments_lexer": "ipython3",
   "version": "3.10.5"
  },
  "orig_nbformat": 4,
  "vscode": {
   "interpreter": {
    "hash": "aeb85421b063f186d75957918962d4ae02ad919a59141ebea0023b107021ffbe"
   }
  }
 },
 "nbformat": 4,
 "nbformat_minor": 2
}

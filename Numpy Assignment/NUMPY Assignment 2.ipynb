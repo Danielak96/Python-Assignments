{
 "cells": [
  {
   "cell_type": "code",
   "execution_count": 2,
   "metadata": {},
   "outputs": [],
   "source": [
    "#Project 2 Mathematics \n",
    "import numpy as np"
   ]
  },
  {
   "cell_type": "code",
   "execution_count": 3,
   "metadata": {},
   "outputs": [
    {
     "name": "stdout",
     "output_type": "stream",
     "text": [
      "Adding\n",
      "5.0\n",
      "Subtracting:\n",
      "-3\n",
      "Multiplying:\n",
      "4\n",
      "Dividing:\n",
      "0.25\n"
     ]
    }
   ],
   "source": [
    "#Q1\n",
    "\n",
    "print(\"Adding\")\n",
    "print(np.add(1, 4.))\n",
    "print(\"Subtracting:\")\n",
    "print(np.subtract(1, 4))\n",
    "print(\"Multiplying:\")\n",
    "print(np.multiply(1, 4))\n",
    "print(\"Dividing:\")\n",
    "print(np.divide(1, 4))"
   ]
  },
  {
   "cell_type": "code",
   "execution_count": 5,
   "metadata": {},
   "outputs": [
    {
     "name": "stdout",
     "output_type": "stream",
     "text": [
      "Here is an array of numbers, with each element being a float\n",
      "[-0.7 -1.5 -1.7  0.3  1.5  1.8  2.7]\n",
      "Now, I am going round each element to the nearest integer\n",
      "[-1. -2. -2.  0.  2.  2.  3.]\n"
     ]
    }
   ],
   "source": [
    "#Q2\n",
    "x = np.array([-.7, -1.5, -1.7, 0.3, 1.5, 1.8, 2.7])\n",
    "print(\"Here is an array of numbers, with each element being a float\")\n",
    "print(x)\n",
    "x = np.rint(x)\n",
    "print(\"Now, I am going round each element to the nearest integer\")\n",
    "print(x)"
   ]
  },
  {
   "cell_type": "code",
   "execution_count": 6,
   "metadata": {},
   "outputs": [
    {
     "name": "stdout",
     "output_type": "stream",
     "text": [
      "An array with elements from 0 to 9\n",
      "[0 1 2 3 4 5 6 7 8 9]\n",
      "Division of the array inputs, element-wise, (Divides every element by 2\n",
      "[0.  0.5 1.  1.5 2.  2.5 3.  3.5 4.  4.5]\n"
     ]
    }
   ],
   "source": [
    "#Q3\n",
    "x = np.arange(10)\n",
    "print(\"An array with elements from 0 to 9\")\n",
    "print(x)\n",
    "print(\"Division of the array inputs, element-wise, (Divides every element by 2\")\n",
    "print(np.true_divide(x,2))  #Found on the interent, this just divides every element by the number put in the true divide function?"
   ]
  },
  {
   "cell_type": "code",
   "execution_count": 8,
   "metadata": {},
   "outputs": [
    {
     "name": "stdout",
     "output_type": "stream",
     "text": [
      "Here is my matrix n:\n",
      "[[ 1  2  3]\n",
      " [ 4  5  6]\n",
      " [ 7  8  9]\n",
      " [10 11 12]\n",
      " [13 14 15]]\n",
      "Here is my matrix m\n",
      "[[1 2]\n",
      " [3 4]\n",
      " [5 6]]\n",
      "Now here is the matrix n*m, note order is important, Matrix multiplication is not commutative:\n",
      "[[ 22  28]\n",
      " [ 49  64]\n",
      " [ 76 100]\n",
      " [103 136]\n",
      " [130 172]]\n"
     ]
    }
   ],
   "source": [
    "#Extension\n",
    "n = np.array(range(1,16)).reshape(5,3)   #Q1\n",
    "m = np.array(range(1,7)).reshape(3,2)\n",
    "print(\"Here is my matrix n:\")\n",
    "print(n)\n",
    "print(\"Here is my matrix m\")\n",
    "print(m)\n",
    "\n",
    "print(\"Now here is the matrix n*m, note order is important, Matrix multiplication is not commutative:\")\n",
    "\n",
    "nm = np.dot(n,m)\n",
    "\n",
    "print(nm)\n"
   ]
  },
  {
   "cell_type": "code",
   "execution_count": 14,
   "metadata": {},
   "outputs": [
    {
     "name": "stdout",
     "output_type": "stream",
     "text": [
      "Average of the array elements:\n",
      "-0.008939450267208791\n",
      "Standard deviation of the array elements:\n",
      "1.0078985710335349\n",
      "Variance of the array elements:\n",
      "1.0158595294914416\n"
     ]
    }
   ],
   "source": [
    "x = np.random.randn(1000) #This function creates an array with 1000 elements\n",
    "print(\"Average of the array elements:\")\n",
    "average = np.mean(x)\n",
    "print(average)\n",
    "print(\"Standard deviation of the array elements:\")\n",
    "standarDev = np.std(x)\n",
    "print(standarDev)\n",
    "print(\"Variance of the array elements:\")\n",
    "variance = np.var(x)\n",
    "print(variance)\n",
    "\n"
   ]
  },
  {
   "cell_type": "code",
   "execution_count": 23,
   "metadata": {},
   "outputs": [
    {
     "name": "stdout",
     "output_type": "stream",
     "text": [
      "Original array: \n",
      "[1.5 6.6 7.8 4.3 2.6 9.3]\n",
      "\n",
      "around:    [1.5 6.6 7.8 4.3 2.6 9.3]\n",
      "floor:     [1. 6. 7. 4. 2. 9.]\n",
      "ceil:      [ 2.  7.  8.  5.  3. 10.]\n",
      "trunc:     [1. 6. 7. 4. 2. 9.]\n",
      "round:     [2, 7, 8, 4, 3, 9]\n"
     ]
    }
   ],
   "source": [
    "x = np.array([1.5,6.6,7.8,4.3,2.6,9.3])\n",
    "print(\"Original array: \")\n",
    "print(x)\n",
    "r1 = np.around(x,5) #This rounds each element to the specified no. of decimal places, in  this case 5\n",
    "r2 = np.floor(x)   #Just gives the the element in the 'ones unit' of the float?\n",
    "r3 = np.ceil(x)   \n",
    "r4 = np.trunc(x)\n",
    "r5 = [round(elem) for elem in x]\n",
    "\n",
    "print(\"\\naround:   \", r1)\n",
    "print(\"floor:    \",r2)\n",
    "print(\"ceil:     \",r3)\n",
    "print(\"trunc:    \",r4)\n",
    "print(\"round:    \",r5)"
   ]
  },
  {
   "cell_type": "code",
   "execution_count": 24,
   "metadata": {},
   "outputs": [
    {
     "name": "stdout",
     "output_type": "stream",
     "text": [
      "[0.51008289 0.59203028 0.6704177  0.99875581 0.07175354 0.26918123\n",
      " 0.63860419 0.19158247 0.69505388 0.24218822]\n",
      "The min value of the array is 0.0717535366893618 and the max is 0.9987558052855408\n"
     ]
    }
   ],
   "source": [
    "x =  np.random.rand(10)\n",
    "\n",
    "print(x)\n",
    "\n",
    "mini = np.amin(x)\n",
    "maxi = np.amax(x)\n",
    "\n",
    "print(\"The min value of the array is\",mini,\"and the max is\",maxi)"
   ]
  }
 ],
 "metadata": {
  "kernelspec": {
   "display_name": "Python 3.10.5 64-bit",
   "language": "python",
   "name": "python3"
  },
  "language_info": {
   "codemirror_mode": {
    "name": "ipython",
    "version": 3
   },
   "file_extension": ".py",
   "mimetype": "text/x-python",
   "name": "python",
   "nbconvert_exporter": "python",
   "pygments_lexer": "ipython3",
   "version": "3.10.5"
  },
  "orig_nbformat": 4,
  "vscode": {
   "interpreter": {
    "hash": "aeb85421b063f186d75957918962d4ae02ad919a59141ebea0023b107021ffbe"
   }
  }
 },
 "nbformat": 4,
 "nbformat_minor": 2
}

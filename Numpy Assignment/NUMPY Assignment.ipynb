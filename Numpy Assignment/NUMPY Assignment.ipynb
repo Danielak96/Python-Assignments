{
 "cells": [
  {
   "cell_type": "code",
   "execution_count": 2,
   "metadata": {},
   "outputs": [],
   "source": [
    "#Q1\n",
    "\n",
    "import numpy as np"
   ]
  },
  {
   "cell_type": "code",
   "execution_count": 10,
   "metadata": {},
   "outputs": [
    {
     "name": "stdout",
     "output_type": "stream",
     "text": [
      "[0 1 2 3 4 5 6 7 8 9]\n",
      "[[0 1 2 3 4]\n",
      " [5 6 7 8 9]]\n",
      "(2, 5)\n"
     ]
    }
   ],
   "source": [
    "#Project 1 \n",
    "\n",
    "array = np.array(range(10))  #q1\n",
    "print(array)\n",
    "newarray = array.reshape(2,5)  #q2\n",
    "print(newarray)\n",
    "print(newarray.shape)\n"
   ]
  },
  {
   "cell_type": "code",
   "execution_count": 9,
   "metadata": {},
   "outputs": [
    {
     "name": "stdout",
     "output_type": "stream",
     "text": [
      "[30 31 32 33 34 35 36 37 38 39 40 41 42 43 44 45 46 47 48 49 50 51 52 53\n",
      " 54 55 56 57 58 59 60 61 62 63 64 65 66 67 68 69 70]\n",
      "[30 31 32 33 34 35 36 37 38 39 40 41 42 43 44 45 46 47 48 49 50 51 52 53\n",
      " 54 55 56 57 58 59 60 61 62 63 64 65 66 67 68 69 70 78]\n"
     ]
    }
   ],
   "source": [
    "#Q2 and Q3\n",
    "arraythree = np.array(range(30,71))\n",
    "print(arraythree)\n",
    "\n",
    "arrayappended= np.append(arraythree,78)\n",
    "\n",
    "print(arrayappended)\n"
   ]
  },
  {
   "cell_type": "code",
   "execution_count": 4,
   "metadata": {},
   "outputs": [
    {
     "name": "stdout",
     "output_type": "stream",
     "text": [
      "Write a NumPy program to find the number of rows and columns of a given matrix.\n",
      "[[10 12 14 16 18]\n",
      " [20 22 24 26 28]\n",
      " [30 32 34 36 38]\n",
      " [40 42 44 46 48]]\n",
      "The dimensions of this matrix is (4, 5)\n",
      "Write a NumPy program to create an array of all the even integers from 30 to 70.\n",
      "[30 32 34 36 38 40 42 44 46 48 50 52 54 56 58 60 62 64 66 68 70]\n"
     ]
    }
   ],
   "source": [
    "#Extension\n",
    "print(\"Write a NumPy program to find the number of rows and columns of a given matrix.\")\n",
    "\n",
    "m = np.array(range(10,50,2)).reshape(4,5)\n",
    "print(m)\n",
    "\n",
    "print(\"The dimensions of this matrix is\",m.shape)\n",
    "\n",
    "print(\"Write a NumPy program to create an array of all the even integers from 30 to 70.\")\n",
    "\n",
    "n = np.array(range(30,71,2))\n",
    "print(n)"
   ]
  },
  {
   "cell_type": "code",
   "execution_count": 8,
   "metadata": {},
   "outputs": [
    {
     "name": "stdout",
     "output_type": "stream",
     "text": [
      "Write a NumPy program to convert a list and tuple into arrays.\n",
      "The list:\n",
      "[1, 2, 3, 4, 5, 6, 7, 8, 9, 10]\n",
      "The list now converted to an array:\n",
      "[ 1  2  3  4  5  6  7  8  9 10]\n",
      "The tuple:\n",
      "([8, 4, 3], [4, 2, 6])\n",
      "The tuple now converted to an array\n",
      "[[8 4 3]\n",
      " [4 2 6]]\n"
     ]
    }
   ],
   "source": [
    "#Extension Q3\n",
    "\n",
    "print(\"Write a NumPy program to convert a list and tuple into arrays.\")\n",
    "\n",
    "mylist = [1,2,3,4,5,6,7,8,9,10]\n",
    "print(\"The list:\")\n",
    "print(mylist)\n",
    "x = np.asarray(mylist)\n",
    "print(\"The list now converted to an array:\")\n",
    "print(x)\n",
    "mytuple = ([8,4,3],[4,2,6])\n",
    "print(\"The tuple:\")\n",
    "print(mytuple)\n",
    "n = np.asarray(mytuple)\n",
    "print(\"The tuple now converted to an array\")\n",
    "print(n)\n"
   ]
  },
  {
   "cell_type": "code",
   "execution_count": 3,
   "metadata": {},
   "outputs": [
    {
     "name": "stdout",
     "output_type": "stream",
     "text": [
      "[['James' '5' '48.5']\n",
      " ['Nail' '6' '52.5']\n",
      " ['Paul' '5' '42.1']\n",
      " ['Pit' '5' '40.11']]\n",
      "[['James' '5' '40.11']\n",
      " ['Nail' '5' '42.1']\n",
      " ['Paul' '5' '48.5']\n",
      " ['Pit' '6' '52.5']]\n"
     ]
    }
   ],
   "source": [
    "#Extension Q4\n",
    "\n",
    "data_type = [('name', 'S15'), ('class', int), ('height', float)] \n",
    "\n",
    "students_details = [('James', 5,\n",
    "48.5), ('Nail', 6, 52.5),('Paul', 5, 42.10), ('Pit', 5, 40.11)]\n",
    "\n",
    "\n",
    "x = np.asarray(students_details)\n",
    "\n",
    "print(x)\n",
    "\n",
    "print(np.sort(x,0))\n"
   ]
  }
 ],
 "metadata": {
  "kernelspec": {
   "display_name": "Python 3.10.5 64-bit",
   "language": "python",
   "name": "python3"
  },
  "language_info": {
   "codemirror_mode": {
    "name": "ipython",
    "version": 3
   },
   "file_extension": ".py",
   "mimetype": "text/x-python",
   "name": "python",
   "nbconvert_exporter": "python",
   "pygments_lexer": "ipython3",
   "version": "3.10.5"
  },
  "orig_nbformat": 4,
  "vscode": {
   "interpreter": {
    "hash": "aeb85421b063f186d75957918962d4ae02ad919a59141ebea0023b107021ffbe"
   }
  }
 },
 "nbformat": 4,
 "nbformat_minor": 2
}

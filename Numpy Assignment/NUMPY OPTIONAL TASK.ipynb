{
 "cells": [
  {
   "cell_type": "code",
   "execution_count": 30,
   "metadata": {},
   "outputs": [
    {
     "name": "stdout",
     "output_type": "stream",
     "text": [
      "Requirement already satisfied: mysql-connector-python in c:\\users\\dakin\\appdata\\local\\programs\\python\\python310\\lib\\site-packages (8.0.30)\n",
      "Requirement already satisfied: protobuf<=3.20.1,>=3.11.0 in c:\\users\\dakin\\appdata\\local\\programs\\python\\python310\\lib\\site-packages (from mysql-connector-python) (3.20.1)\n",
      "Note: you may need to restart the kernel to use updated packages.\n"
     ]
    },
    {
     "name": "stderr",
     "output_type": "stream",
     "text": [
      "WARNING: You are using pip version 22.0.4; however, version 22.2.2 is available.\n",
      "You should consider upgrading via the 'c:\\Users\\dakin\\AppData\\Local\\Programs\\Python\\Python310\\python.exe -m pip install --upgrade pip' command.\n"
     ]
    }
   ],
   "source": [
    "pip install mysql-connector-python"
   ]
  },
  {
   "cell_type": "code",
   "execution_count": 23,
   "metadata": {},
   "outputs": [],
   "source": [
    "import mysql.connector #Used for connecting to SQL\n",
    "import numpy as np  \n",
    "\n",
    "db_connection = mysql.connector.connect(\n",
    "\n",
    "host=\"localhost\",user=\"root\",passwd=\"Ddjcc568\" , database=\"uni\")   #connect to database"
   ]
  },
  {
   "cell_type": "code",
   "execution_count": 24,
   "metadata": {},
   "outputs": [
    {
     "name": "stdout",
     "output_type": "stream",
     "text": [
      "I will now print the joining,membership and equipment fees as matrix:\n",
      "[[ 10   0   0]\n",
      " [ 10  20  10]\n",
      " [ 10  20  50]\n",
      " [ 10  10   0]\n",
      " [ 10  10   0]\n",
      " [ 10  20   0]\n",
      " [ 10  30  15]\n",
      " [ 20  50 150]\n",
      " [ 10  10  10]\n",
      " [ 50 200  25]\n",
      " [ 10  10  10]\n",
      " [ 10  10   0]\n",
      " [ 10  10   0]\n",
      " [ 20  10   0]\n",
      " [ 30 100 250]\n",
      " [ 10  10   5]\n",
      " [ 20  10   5]\n",
      " [ 10  10   0]\n",
      " [ 20  10 100]\n",
      " [ 40  20 175]\n",
      " [ 10  10 150]\n",
      " [ 10  10   0]\n",
      " [ 10  25  60]\n",
      " [ 20  20  10]\n",
      " [ 10  20   0]\n",
      " [ 10  10 150]\n",
      " [ 10  10  75]\n",
      " [ 10  10  60]\n",
      " [ 10  20  45]\n",
      " [ 10  10  65]]\n",
      "The total cost of the joining, membership and equipment fee by club is the value of each element in the matrix\n",
      "[ 10  40  80  20  20  30  55 220  30 275  30  20  20  30 380  25  35  20\n",
      " 130 235 170  20  95  50  30 170  95  80  75  85]\n"
     ]
    }
   ],
   "source": [
    "databases = db_connection.cursor() # setup for connection string\n",
    "databases.execute(\"Select joiningfee,membershipfee,equipmentfee from uni.club\")\n",
    "result_table = databases.fetchall() # fetches all the rows of a query result\n",
    "array = np.asarray(result_table)\n",
    "print(\"I will now print the joining,membership and equipment fees as matrix:\")\n",
    "print(array)\n",
    "e = np.sum(array, axis = 1)\n",
    "print(\"The total cost of the joining, membership and equipment fee by club is the value of each element in the matrix\")\n",
    "print(e)\n",
    "\n",
    "\n"
   ]
  },
  {
   "cell_type": "code",
   "execution_count": 6,
   "metadata": {},
   "outputs": [
    {
     "name": "stdout",
     "output_type": "stream",
     "text": [
      "[[10500]\n",
      " [ 5500]\n",
      " [ 9400]\n",
      " [10450]\n",
      " [ 2000]\n",
      " [10200]\n",
      " [ 5700]\n",
      " [ 5800]\n",
      " [10000]\n",
      " [ 6000]\n",
      " [ 9850]\n",
      " [ 7200]]\n"
     ]
    }
   ],
   "source": [
    "databases = db_connection.cursor() # setup for connection string\n",
    "databases.execute(\"SELECT (fulltimefee-scholarshipdiscount) FROM uni.fees\")\n",
    "result_table = databases.fetchall() # fetches all the rows of a query result\n",
    "array = np.asarray(result_table)\n",
    "print(array)"
   ]
  },
  {
   "cell_type": "code",
   "execution_count": 28,
   "metadata": {},
   "outputs": [
    {
     "name": "stdout",
     "output_type": "stream",
     "text": [
      "[(1, 2)]\n"
     ]
    }
   ],
   "source": [
    "databases = db_connection.cursor() # setup for connection string\n",
    "databases.execute(\"SELECT classid, min(feedbackscore) as minfeed FROM uni.schedule\")\n",
    "result_table = databases.fetchall() # fetches all the rows of a query result\n",
    "print(result_table)   #Prints the Class ID with the lowest feedback score? "
   ]
  },
  {
   "cell_type": "code",
   "execution_count": 29,
   "metadata": {},
   "outputs": [
    {
     "name": "stdout",
     "output_type": "stream",
     "text": [
      "[(1, 10)]\n"
     ]
    }
   ],
   "source": [
    "databases = db_connection.cursor() # setup for connection string\n",
    "databases.execute(\"SELECT classid, max(feedbackscore) as maxfeed FROM uni.schedule\")\n",
    "result_table = databases.fetchall() # fetches all the rows of a query result\n",
    "print(result_table)   #Prints the Class ID with the highest feedback score? "
   ]
  }
 ],
 "metadata": {
  "kernelspec": {
   "display_name": "Python 3.10.5 64-bit",
   "language": "python",
   "name": "python3"
  },
  "language_info": {
   "codemirror_mode": {
    "name": "ipython",
    "version": 3
   },
   "file_extension": ".py",
   "mimetype": "text/x-python",
   "name": "python",
   "nbconvert_exporter": "python",
   "pygments_lexer": "ipython3",
   "version": "3.10.5"
  },
  "orig_nbformat": 4,
  "vscode": {
   "interpreter": {
    "hash": "aeb85421b063f186d75957918962d4ae02ad919a59141ebea0023b107021ffbe"
   }
  }
 },
 "nbformat": 4,
 "nbformat_minor": 2
}

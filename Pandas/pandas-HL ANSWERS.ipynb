{
 "cells": [
  {
   "cell_type": "markdown",
   "metadata": {},
   "source": [
    "### HOME LEARNING- PANDAS SESSION"
   ]
  },
  {
   "cell_type": "markdown",
   "metadata": {},
   "source": [
    "### Task 1: Creating a Pandas dataframe"
   ]
  },
  {
   "cell_type": "code",
   "execution_count": 7,
   "metadata": {},
   "outputs": [
    {
     "name": "stdout",
     "output_type": "stream",
     "text": [
      "[[1 2]\n",
      " [3 4]\n",
      " [5 6]]\n"
     ]
    },
    {
     "data": {
      "text/html": [
       "<div>\n",
       "<style scoped>\n",
       "    .dataframe tbody tr th:only-of-type {\n",
       "        vertical-align: middle;\n",
       "    }\n",
       "\n",
       "    .dataframe tbody tr th {\n",
       "        vertical-align: top;\n",
       "    }\n",
       "\n",
       "    .dataframe thead th {\n",
       "        text-align: right;\n",
       "    }\n",
       "</style>\n",
       "<table border=\"1\" class=\"dataframe\">\n",
       "  <thead>\n",
       "    <tr style=\"text-align: right;\">\n",
       "      <th></th>\n",
       "      <th>CO</th>\n",
       "      <th>C1</th>\n",
       "    </tr>\n",
       "  </thead>\n",
       "  <tbody>\n",
       "    <tr>\n",
       "      <th>0</th>\n",
       "      <td>1</td>\n",
       "      <td>2</td>\n",
       "    </tr>\n",
       "    <tr>\n",
       "      <th>1</th>\n",
       "      <td>3</td>\n",
       "      <td>4</td>\n",
       "    </tr>\n",
       "    <tr>\n",
       "      <th>2</th>\n",
       "      <td>5</td>\n",
       "      <td>6</td>\n",
       "    </tr>\n",
       "  </tbody>\n",
       "</table>\n",
       "</div>"
      ],
      "text/plain": [
       "   CO  C1\n",
       "0   1   2\n",
       "1   3   4\n",
       "2   5   6"
      ]
     },
     "execution_count": 7,
     "metadata": {},
     "output_type": "execute_result"
    }
   ],
   "source": [
    "#Create a dataframe that contains 2 columns and 3 rows using a numpy array, \n",
    "#using numbers of your choice to fill the array:\n",
    "\n",
    "# 1- Import the numpy library\n",
    "# 2- Create your numpy array with random numbers\n",
    "# 3- Create a variable that contains a row index list\n",
    "# 4- Create a a variable that contains a column index list\n",
    "# 5- Pass the different variables in the pandas dataframe function pd.DataFrame()\n",
    "\n",
    "#Put your code below:\n",
    "import numpy as np\n",
    "\n",
    "import pandas as pd\n",
    "\n",
    "nparray = np.array([[1,2],[3,4],[5,6]])\n",
    "print(nparray)\n",
    "row_index = [0,1,2]\n",
    "column_index = ['CO','C1']\n",
    "pd.DataFrame (data=nparray, index=row_index, columns=column_index)"
   ]
  },
  {
   "cell_type": "markdown",
   "metadata": {},
   "source": [
    "### Task 2: Importing and exploring a Pandas dataframe:"
   ]
  },
  {
   "cell_type": "code",
   "execution_count": 2,
   "metadata": {},
   "outputs": [
    {
     "data": {
      "text/html": [
       "<div>\n",
       "<style scoped>\n",
       "    .dataframe tbody tr th:only-of-type {\n",
       "        vertical-align: middle;\n",
       "    }\n",
       "\n",
       "    .dataframe tbody tr th {\n",
       "        vertical-align: top;\n",
       "    }\n",
       "\n",
       "    .dataframe thead th {\n",
       "        text-align: right;\n",
       "    }\n",
       "</style>\n",
       "<table border=\"1\" class=\"dataframe\">\n",
       "  <thead>\n",
       "    <tr style=\"text-align: right;\">\n",
       "      <th></th>\n",
       "      <th>Entity</th>\n",
       "      <th>Code</th>\n",
       "      <th>Year</th>\n",
       "      <th>Monthly active users</th>\n",
       "    </tr>\n",
       "  </thead>\n",
       "  <tbody>\n",
       "    <tr>\n",
       "      <th>0</th>\n",
       "      <td>Facebook</td>\n",
       "      <td>NaN</td>\n",
       "      <td>2008</td>\n",
       "      <td>100000000</td>\n",
       "    </tr>\n",
       "    <tr>\n",
       "      <th>1</th>\n",
       "      <td>Facebook</td>\n",
       "      <td>NaN</td>\n",
       "      <td>2009</td>\n",
       "      <td>276000000</td>\n",
       "    </tr>\n",
       "    <tr>\n",
       "      <th>2</th>\n",
       "      <td>Facebook</td>\n",
       "      <td>NaN</td>\n",
       "      <td>2010</td>\n",
       "      <td>517750000</td>\n",
       "    </tr>\n",
       "    <tr>\n",
       "      <th>3</th>\n",
       "      <td>Facebook</td>\n",
       "      <td>NaN</td>\n",
       "      <td>2011</td>\n",
       "      <td>766000000</td>\n",
       "    </tr>\n",
       "    <tr>\n",
       "      <th>4</th>\n",
       "      <td>Facebook</td>\n",
       "      <td>NaN</td>\n",
       "      <td>2012</td>\n",
       "      <td>979750000</td>\n",
       "    </tr>\n",
       "  </tbody>\n",
       "</table>\n",
       "</div>"
      ],
      "text/plain": [
       "     Entity  Code  Year  Monthly active users\n",
       "0  Facebook   NaN  2008             100000000\n",
       "1  Facebook   NaN  2009             276000000\n",
       "2  Facebook   NaN  2010             517750000\n",
       "3  Facebook   NaN  2011             766000000\n",
       "4  Facebook   NaN  2012             979750000"
      ]
     },
     "execution_count": 2,
     "metadata": {},
     "output_type": "execute_result"
    }
   ],
   "source": [
    "#Import the file named users-socialmedia.csv:\n",
    "\n",
    "# 1- Import the pandas library\n",
    "# 2- Create a variable that contains the path of your file\n",
    "# 3- Use the method pd.read_csv()to read your file\n",
    "# 4- Explore your imported dataframe with the head() method\n",
    "\n",
    "#Put your code below:\n",
    "import pandas as pd\n",
    "\n",
    "\n",
    "dataframe= pd.read_csv(\"users-socialmedia.csv\")\n",
    "dataframe.head()\n",
    "\n"
   ]
  },
  {
   "cell_type": "code",
   "execution_count": 9,
   "metadata": {},
   "outputs": [
    {
     "name": "stdout",
     "output_type": "stream",
     "text": [
      "This dataframe has a dimension of (142, 4)\n"
     ]
    }
   ],
   "source": [
    "#How many columns and rows has the dataframe?\n",
    "print(\"This dataframe has a dimension of\",dataframe.shape)\n"
   ]
  },
  {
   "cell_type": "code",
   "execution_count": 33,
   "metadata": {},
   "outputs": [
    {
     "name": "stdout",
     "output_type": "stream",
     "text": [
      "There are 142 missing values, all coming from the Code column\n"
     ]
    },
    {
     "data": {
      "text/plain": [
       "Entity                    0\n",
       "Code                    142\n",
       "Year                      0\n",
       "Monthly active users      0\n",
       "dtype: int64"
      ]
     },
     "execution_count": 33,
     "metadata": {},
     "output_type": "execute_result"
    }
   ],
   "source": [
    "#How many missing values the dataframe has?\n",
    "print(\"There are 142 missing values, all coming from the Code column\")\n",
    "dataframe.isnull().sum()\n"
   ]
  },
  {
   "cell_type": "markdown",
   "metadata": {},
   "source": [
    "### Task 3: Data filtering"
   ]
  },
  {
   "cell_type": "code",
   "execution_count": 20,
   "metadata": {},
   "outputs": [
    {
     "data": {
      "text/plain": [
       "0      Facebook\n",
       "1      Facebook\n",
       "2      Facebook\n",
       "3      Facebook\n",
       "4      Facebook\n",
       "         ...   \n",
       "137     YouTube\n",
       "138     YouTube\n",
       "139     YouTube\n",
       "140     YouTube\n",
       "141     YouTube\n",
       "Name: Entity, Length: 142, dtype: object"
      ]
     },
     "execution_count": 20,
     "metadata": {},
     "output_type": "execute_result"
    }
   ],
   "source": [
    "#Select the column named \"entity\":\n",
    "dataframe['Entity']\n"
   ]
  },
  {
   "cell_type": "code",
   "execution_count": 21,
   "metadata": {},
   "outputs": [
    {
     "data": {
      "text/plain": [
       "'Facebook'"
      ]
     },
     "execution_count": 21,
     "metadata": {},
     "output_type": "execute_result"
    }
   ],
   "source": [
    "#Select the second row of the column country using the .loc command:\n",
    "dataframe.loc[1,'Entity'] #There is no country column, I assume this is meant to say Entity?"
   ]
  },
  {
   "cell_type": "code",
   "execution_count": 5,
   "metadata": {},
   "outputs": [
    {
     "data": {
      "text/html": [
       "<div>\n",
       "<style scoped>\n",
       "    .dataframe tbody tr th:only-of-type {\n",
       "        vertical-align: middle;\n",
       "    }\n",
       "\n",
       "    .dataframe tbody tr th {\n",
       "        vertical-align: top;\n",
       "    }\n",
       "\n",
       "    .dataframe thead th {\n",
       "        text-align: right;\n",
       "    }\n",
       "</style>\n",
       "<table border=\"1\" class=\"dataframe\">\n",
       "  <thead>\n",
       "    <tr style=\"text-align: right;\">\n",
       "      <th></th>\n",
       "      <th>Entity</th>\n",
       "      <th>Code</th>\n",
       "      <th>Year</th>\n",
       "      <th>Monthly active users</th>\n",
       "    </tr>\n",
       "  </thead>\n",
       "  <tbody>\n",
       "    <tr>\n",
       "      <th>1</th>\n",
       "      <td>Facebook</td>\n",
       "      <td>NaN</td>\n",
       "      <td>2009</td>\n",
       "      <td>276000000</td>\n",
       "    </tr>\n",
       "  </tbody>\n",
       "</table>\n",
       "</div>"
      ],
      "text/plain": [
       "     Entity  Code  Year  Monthly active users\n",
       "1  Facebook   NaN  2009             276000000"
      ]
     },
     "execution_count": 5,
     "metadata": {},
     "output_type": "execute_result"
    }
   ],
   "source": [
    "#Select the second row of the dataframe using the .loc command:\n",
    "dataframe.loc[1:1]"
   ]
  },
  {
   "cell_type": "code",
   "execution_count": 37,
   "metadata": {},
   "outputs": [
    {
     "data": {
      "text/html": [
       "<div>\n",
       "<style scoped>\n",
       "    .dataframe tbody tr th:only-of-type {\n",
       "        vertical-align: middle;\n",
       "    }\n",
       "\n",
       "    .dataframe tbody tr th {\n",
       "        vertical-align: top;\n",
       "    }\n",
       "\n",
       "    .dataframe thead th {\n",
       "        text-align: right;\n",
       "    }\n",
       "</style>\n",
       "<table border=\"1\" class=\"dataframe\">\n",
       "  <thead>\n",
       "    <tr style=\"text-align: right;\">\n",
       "      <th></th>\n",
       "      <th>Social media App</th>\n",
       "      <th>Code</th>\n",
       "      <th>Year</th>\n",
       "      <th>Monthly active users</th>\n",
       "    </tr>\n",
       "  </thead>\n",
       "  <tbody>\n",
       "    <tr>\n",
       "      <th>0</th>\n",
       "      <td>Facebook</td>\n",
       "      <td>NaN</td>\n",
       "      <td>2008</td>\n",
       "      <td>100000000</td>\n",
       "    </tr>\n",
       "    <tr>\n",
       "      <th>1</th>\n",
       "      <td>Facebook</td>\n",
       "      <td>NaN</td>\n",
       "      <td>2009</td>\n",
       "      <td>276000000</td>\n",
       "    </tr>\n",
       "    <tr>\n",
       "      <th>2</th>\n",
       "      <td>Facebook</td>\n",
       "      <td>NaN</td>\n",
       "      <td>2010</td>\n",
       "      <td>517750000</td>\n",
       "    </tr>\n",
       "    <tr>\n",
       "      <th>3</th>\n",
       "      <td>Facebook</td>\n",
       "      <td>NaN</td>\n",
       "      <td>2011</td>\n",
       "      <td>766000000</td>\n",
       "    </tr>\n",
       "    <tr>\n",
       "      <th>4</th>\n",
       "      <td>Facebook</td>\n",
       "      <td>NaN</td>\n",
       "      <td>2012</td>\n",
       "      <td>979750000</td>\n",
       "    </tr>\n",
       "    <tr>\n",
       "      <th>...</th>\n",
       "      <td>...</td>\n",
       "      <td>...</td>\n",
       "      <td>...</td>\n",
       "      <td>...</td>\n",
       "    </tr>\n",
       "    <tr>\n",
       "      <th>137</th>\n",
       "      <td>YouTube</td>\n",
       "      <td>NaN</td>\n",
       "      <td>2014</td>\n",
       "      <td>1249451725</td>\n",
       "    </tr>\n",
       "    <tr>\n",
       "      <th>138</th>\n",
       "      <td>YouTube</td>\n",
       "      <td>NaN</td>\n",
       "      <td>2015</td>\n",
       "      <td>1328133360</td>\n",
       "    </tr>\n",
       "    <tr>\n",
       "      <th>139</th>\n",
       "      <td>YouTube</td>\n",
       "      <td>NaN</td>\n",
       "      <td>2016</td>\n",
       "      <td>1399053600</td>\n",
       "    </tr>\n",
       "    <tr>\n",
       "      <th>140</th>\n",
       "      <td>YouTube</td>\n",
       "      <td>NaN</td>\n",
       "      <td>2017</td>\n",
       "      <td>1495657000</td>\n",
       "    </tr>\n",
       "    <tr>\n",
       "      <th>141</th>\n",
       "      <td>YouTube</td>\n",
       "      <td>NaN</td>\n",
       "      <td>2018</td>\n",
       "      <td>1900000000</td>\n",
       "    </tr>\n",
       "  </tbody>\n",
       "</table>\n",
       "<p>142 rows × 4 columns</p>\n",
       "</div>"
      ],
      "text/plain": [
       "    Social media App  Code  Year  Monthly active users\n",
       "0           Facebook   NaN  2008             100000000\n",
       "1           Facebook   NaN  2009             276000000\n",
       "2           Facebook   NaN  2010             517750000\n",
       "3           Facebook   NaN  2011             766000000\n",
       "4           Facebook   NaN  2012             979750000\n",
       "..               ...   ...   ...                   ...\n",
       "137          YouTube   NaN  2014            1249451725\n",
       "138          YouTube   NaN  2015            1328133360\n",
       "139          YouTube   NaN  2016            1399053600\n",
       "140          YouTube   NaN  2017            1495657000\n",
       "141          YouTube   NaN  2018            1900000000\n",
       "\n",
       "[142 rows x 4 columns]"
      ]
     },
     "execution_count": 37,
     "metadata": {},
     "output_type": "execute_result"
    }
   ],
   "source": [
    "#Rename the column 'Entity' to 'Social media App':\n",
    "dataframe_1 = dataframe.rename(columns={'Entity': 'Social media App'}) \n",
    "dataframe_1"
   ]
  },
  {
   "cell_type": "code",
   "execution_count": 26,
   "metadata": {},
   "outputs": [
    {
     "data": {
      "text/html": [
       "<div>\n",
       "<style scoped>\n",
       "    .dataframe tbody tr th:only-of-type {\n",
       "        vertical-align: middle;\n",
       "    }\n",
       "\n",
       "    .dataframe tbody tr th {\n",
       "        vertical-align: top;\n",
       "    }\n",
       "\n",
       "    .dataframe thead th {\n",
       "        text-align: right;\n",
       "    }\n",
       "</style>\n",
       "<table border=\"1\" class=\"dataframe\">\n",
       "  <thead>\n",
       "    <tr style=\"text-align: right;\">\n",
       "      <th></th>\n",
       "      <th>Entity</th>\n",
       "      <th>Year</th>\n",
       "      <th>Monthly active users</th>\n",
       "    </tr>\n",
       "  </thead>\n",
       "  <tbody>\n",
       "    <tr>\n",
       "      <th>0</th>\n",
       "      <td>Facebook</td>\n",
       "      <td>2008</td>\n",
       "      <td>100000000</td>\n",
       "    </tr>\n",
       "    <tr>\n",
       "      <th>1</th>\n",
       "      <td>Facebook</td>\n",
       "      <td>2009</td>\n",
       "      <td>276000000</td>\n",
       "    </tr>\n",
       "    <tr>\n",
       "      <th>2</th>\n",
       "      <td>Facebook</td>\n",
       "      <td>2010</td>\n",
       "      <td>517750000</td>\n",
       "    </tr>\n",
       "    <tr>\n",
       "      <th>3</th>\n",
       "      <td>Facebook</td>\n",
       "      <td>2011</td>\n",
       "      <td>766000000</td>\n",
       "    </tr>\n",
       "    <tr>\n",
       "      <th>4</th>\n",
       "      <td>Facebook</td>\n",
       "      <td>2012</td>\n",
       "      <td>979750000</td>\n",
       "    </tr>\n",
       "    <tr>\n",
       "      <th>...</th>\n",
       "      <td>...</td>\n",
       "      <td>...</td>\n",
       "      <td>...</td>\n",
       "    </tr>\n",
       "    <tr>\n",
       "      <th>137</th>\n",
       "      <td>YouTube</td>\n",
       "      <td>2014</td>\n",
       "      <td>1249451725</td>\n",
       "    </tr>\n",
       "    <tr>\n",
       "      <th>138</th>\n",
       "      <td>YouTube</td>\n",
       "      <td>2015</td>\n",
       "      <td>1328133360</td>\n",
       "    </tr>\n",
       "    <tr>\n",
       "      <th>139</th>\n",
       "      <td>YouTube</td>\n",
       "      <td>2016</td>\n",
       "      <td>1399053600</td>\n",
       "    </tr>\n",
       "    <tr>\n",
       "      <th>140</th>\n",
       "      <td>YouTube</td>\n",
       "      <td>2017</td>\n",
       "      <td>1495657000</td>\n",
       "    </tr>\n",
       "    <tr>\n",
       "      <th>141</th>\n",
       "      <td>YouTube</td>\n",
       "      <td>2018</td>\n",
       "      <td>1900000000</td>\n",
       "    </tr>\n",
       "  </tbody>\n",
       "</table>\n",
       "<p>142 rows × 3 columns</p>\n",
       "</div>"
      ],
      "text/plain": [
       "       Entity  Year  Monthly active users\n",
       "0    Facebook  2008             100000000\n",
       "1    Facebook  2009             276000000\n",
       "2    Facebook  2010             517750000\n",
       "3    Facebook  2011             766000000\n",
       "4    Facebook  2012             979750000\n",
       "..        ...   ...                   ...\n",
       "137   YouTube  2014            1249451725\n",
       "138   YouTube  2015            1328133360\n",
       "139   YouTube  2016            1399053600\n",
       "140   YouTube  2017            1495657000\n",
       "141   YouTube  2018            1900000000\n",
       "\n",
       "[142 rows x 3 columns]"
      ]
     },
     "execution_count": 26,
     "metadata": {},
     "output_type": "execute_result"
    }
   ],
   "source": [
    "#Drop the column named 'Code' from the dataframe:\n",
    "dataframe_2= dataframe.drop('Code', axis=1)\n",
    "dataframe_2"
   ]
  },
  {
   "cell_type": "code",
   "execution_count": 28,
   "metadata": {},
   "outputs": [
    {
     "data": {
      "text/html": [
       "<div>\n",
       "<style scoped>\n",
       "    .dataframe tbody tr th:only-of-type {\n",
       "        vertical-align: middle;\n",
       "    }\n",
       "\n",
       "    .dataframe tbody tr th {\n",
       "        vertical-align: top;\n",
       "    }\n",
       "\n",
       "    .dataframe thead th {\n",
       "        text-align: right;\n",
       "    }\n",
       "</style>\n",
       "<table border=\"1\" class=\"dataframe\">\n",
       "  <thead>\n",
       "    <tr style=\"text-align: right;\">\n",
       "      <th></th>\n",
       "      <th>Entity</th>\n",
       "      <th>Code</th>\n",
       "      <th>Year</th>\n",
       "      <th>Monthly active users</th>\n",
       "    </tr>\n",
       "  </thead>\n",
       "  <tbody>\n",
       "    <tr>\n",
       "      <th>11</th>\n",
       "      <td>Facebook</td>\n",
       "      <td>NaN</td>\n",
       "      <td>2019</td>\n",
       "      <td>2375000000</td>\n",
       "    </tr>\n",
       "    <tr>\n",
       "      <th>76</th>\n",
       "      <td>Pinterest</td>\n",
       "      <td>NaN</td>\n",
       "      <td>2019</td>\n",
       "      <td>291000000</td>\n",
       "    </tr>\n",
       "    <tr>\n",
       "      <th>105</th>\n",
       "      <td>Twitter</td>\n",
       "      <td>NaN</td>\n",
       "      <td>2019</td>\n",
       "      <td>330000000</td>\n",
       "    </tr>\n",
       "  </tbody>\n",
       "</table>\n",
       "</div>"
      ],
      "text/plain": [
       "        Entity  Code  Year  Monthly active users\n",
       "11    Facebook   NaN  2019            2375000000\n",
       "76   Pinterest   NaN  2019             291000000\n",
       "105    Twitter   NaN  2019             330000000"
      ]
     },
     "execution_count": 28,
     "metadata": {},
     "output_type": "execute_result"
    }
   ],
   "source": [
    "#Filter the data by displaying data with date >2018:\n",
    "dataframe[dataframe['Year']>2018]"
   ]
  },
  {
   "cell_type": "code",
   "execution_count": 32,
   "metadata": {},
   "outputs": [
    {
     "data": {
      "text/html": [
       "<div>\n",
       "<style scoped>\n",
       "    .dataframe tbody tr th:only-of-type {\n",
       "        vertical-align: middle;\n",
       "    }\n",
       "\n",
       "    .dataframe tbody tr th {\n",
       "        vertical-align: top;\n",
       "    }\n",
       "\n",
       "    .dataframe thead th {\n",
       "        text-align: right;\n",
       "    }\n",
       "</style>\n",
       "<table border=\"1\" class=\"dataframe\">\n",
       "  <thead>\n",
       "    <tr style=\"text-align: right;\">\n",
       "      <th></th>\n",
       "      <th>Entity</th>\n",
       "      <th>Code</th>\n",
       "      <th>Year</th>\n",
       "      <th>Monthly active users</th>\n",
       "    </tr>\n",
       "  </thead>\n",
       "  <tbody>\n",
       "    <tr>\n",
       "      <th>11</th>\n",
       "      <td>Facebook</td>\n",
       "      <td>NaN</td>\n",
       "      <td>2019</td>\n",
       "      <td>2375000000</td>\n",
       "    </tr>\n",
       "  </tbody>\n",
       "</table>\n",
       "</div>"
      ],
      "text/plain": [
       "      Entity  Code  Year  Monthly active users\n",
       "11  Facebook   NaN  2019            2375000000"
      ]
     },
     "execution_count": 32,
     "metadata": {},
     "output_type": "execute_result"
    }
   ],
   "source": [
    "#Filter the data by displaying data >2018 and containing facebook data only:\n",
    "dataframe[(dataframe['Year']>2018)&(dataframe['Entity']==\"Facebook\")]"
   ]
  },
  {
   "cell_type": "code",
   "execution_count": 47,
   "metadata": {},
   "outputs": [
    {
     "data": {
      "text/plain": [
       "YouTube        14\n",
       "Facebook       12\n",
       "Twitter        10\n",
       "Flickr         10\n",
       "Reddit          9\n",
       "Orkut           9\n",
       "Weibo           9\n",
       "WeChat          8\n",
       "Friendster      8\n",
       "MySpace         8\n",
       "Tumblr          7\n",
       "Hi5             7\n",
       "Google+         7\n",
       "Google Buzz     6\n",
       "Instagram       6\n",
       "Whatsapp        5\n",
       "Pinterest       4\n",
       "TikTok          2\n",
       "Snapchat        1\n",
       "Name: Social media App, dtype: int64"
      ]
     },
     "execution_count": 47,
     "metadata": {},
     "output_type": "execute_result"
    }
   ],
   "source": [
    "#Count unique values in the 'Social media App' column:\n",
    "dataframe_1[\"Social media App\"].value_counts()\n"
   ]
  },
  {
   "cell_type": "markdown",
   "metadata": {},
   "source": [
    "### Task4: Data calculation and plotting"
   ]
  },
  {
   "cell_type": "code",
   "execution_count": 5,
   "metadata": {},
   "outputs": [
    {
     "data": {
      "text/html": [
       "<div>\n",
       "<style scoped>\n",
       "    .dataframe tbody tr th:only-of-type {\n",
       "        vertical-align: middle;\n",
       "    }\n",
       "\n",
       "    .dataframe tbody tr th {\n",
       "        vertical-align: top;\n",
       "    }\n",
       "\n",
       "    .dataframe thead th {\n",
       "        text-align: right;\n",
       "    }\n",
       "</style>\n",
       "<table border=\"1\" class=\"dataframe\">\n",
       "  <thead>\n",
       "    <tr style=\"text-align: right;\">\n",
       "      <th></th>\n",
       "      <th>Social media App</th>\n",
       "      <th>Monthly active users</th>\n",
       "    </tr>\n",
       "  </thead>\n",
       "  <tbody>\n",
       "    <tr>\n",
       "      <th>0</th>\n",
       "      <td>Facebook</td>\n",
       "      <td>1.256688e+09</td>\n",
       "    </tr>\n",
       "    <tr>\n",
       "      <th>1</th>\n",
       "      <td>Flickr</td>\n",
       "      <td>4.084857e+07</td>\n",
       "    </tr>\n",
       "    <tr>\n",
       "      <th>2</th>\n",
       "      <td>Friendster</td>\n",
       "      <td>1.674451e+07</td>\n",
       "    </tr>\n",
       "    <tr>\n",
       "      <th>3</th>\n",
       "      <td>Google Buzz</td>\n",
       "      <td>1.693383e+08</td>\n",
       "    </tr>\n",
       "    <tr>\n",
       "      <th>4</th>\n",
       "      <td>Google+</td>\n",
       "      <td>3.130125e+08</td>\n",
       "    </tr>\n",
       "    <tr>\n",
       "      <th>5</th>\n",
       "      <td>Hi5</td>\n",
       "      <td>3.981436e+07</td>\n",
       "    </tr>\n",
       "    <tr>\n",
       "      <th>6</th>\n",
       "      <td>Instagram</td>\n",
       "      <td>5.112500e+08</td>\n",
       "    </tr>\n",
       "    <tr>\n",
       "      <th>7</th>\n",
       "      <td>MySpace</td>\n",
       "      <td>5.014060e+07</td>\n",
       "    </tr>\n",
       "    <tr>\n",
       "      <th>8</th>\n",
       "      <td>Orkut</td>\n",
       "      <td>3.233233e+07</td>\n",
       "    </tr>\n",
       "    <tr>\n",
       "      <th>9</th>\n",
       "      <td>Pinterest</td>\n",
       "      <td>2.189375e+08</td>\n",
       "    </tr>\n",
       "    <tr>\n",
       "      <th>10</th>\n",
       "      <td>Reddit</td>\n",
       "      <td>1.330084e+08</td>\n",
       "    </tr>\n",
       "    <tr>\n",
       "      <th>11</th>\n",
       "      <td>Snapchat</td>\n",
       "      <td>2.386480e+08</td>\n",
       "    </tr>\n",
       "    <tr>\n",
       "      <th>12</th>\n",
       "      <td>TikTok</td>\n",
       "      <td>3.695712e+08</td>\n",
       "    </tr>\n",
       "    <tr>\n",
       "      <th>13</th>\n",
       "      <td>Tumblr</td>\n",
       "      <td>4.412282e+08</td>\n",
       "    </tr>\n",
       "    <tr>\n",
       "      <th>14</th>\n",
       "      <td>Twitter</td>\n",
       "      <td>2.350350e+08</td>\n",
       "    </tr>\n",
       "    <tr>\n",
       "      <th>15</th>\n",
       "      <td>WeChat</td>\n",
       "      <td>5.295996e+08</td>\n",
       "    </tr>\n",
       "    <tr>\n",
       "      <th>16</th>\n",
       "      <td>Weibo</td>\n",
       "      <td>1.887649e+08</td>\n",
       "    </tr>\n",
       "    <tr>\n",
       "      <th>17</th>\n",
       "      <td>Whatsapp</td>\n",
       "      <td>7.864167e+08</td>\n",
       "    </tr>\n",
       "    <tr>\n",
       "      <th>18</th>\n",
       "      <td>YouTube</td>\n",
       "      <td>8.056601e+08</td>\n",
       "    </tr>\n",
       "  </tbody>\n",
       "</table>\n",
       "</div>"
      ],
      "text/plain": [
       "   Social media App  Monthly active users\n",
       "0          Facebook          1.256688e+09\n",
       "1            Flickr          4.084857e+07\n",
       "2        Friendster          1.674451e+07\n",
       "3       Google Buzz          1.693383e+08\n",
       "4           Google+          3.130125e+08\n",
       "5               Hi5          3.981436e+07\n",
       "6         Instagram          5.112500e+08\n",
       "7           MySpace          5.014060e+07\n",
       "8             Orkut          3.233233e+07\n",
       "9         Pinterest          2.189375e+08\n",
       "10           Reddit          1.330084e+08\n",
       "11         Snapchat          2.386480e+08\n",
       "12           TikTok          3.695712e+08\n",
       "13           Tumblr          4.412282e+08\n",
       "14          Twitter          2.350350e+08\n",
       "15           WeChat          5.295996e+08\n",
       "16            Weibo          1.887649e+08\n",
       "17         Whatsapp          7.864167e+08\n",
       "18          YouTube          8.056601e+08"
      ]
     },
     "execution_count": 5,
     "metadata": {},
     "output_type": "execute_result"
    }
   ],
   "source": [
    "#Calculate the mean of Monthly active users per Social media App using the groupby() method,\n",
    "# and the mean calculation method in one line of code only:\n",
    "\n",
    "dataframe_1.groupby(\"Social media App\",as_index=False)[\"Monthly active users\"].mean()"
   ]
  },
  {
   "cell_type": "code",
   "execution_count": 55,
   "metadata": {},
   "outputs": [
    {
     "data": {
      "image/png": "[encoded data removed]",
      "text/plain": [
       "<Figure size 432x288 with 1 Axes>"
      ]
     },
     "metadata": {
      "needs_background": "light"
     },
     "output_type": "display_data"
    }
   ],
   "source": [
    "#Plot the Social media App along with their Monthly active users using the seaborn library:\n",
    "\n",
    "# 1-Import the seaborn library\n",
    "# 2- Define your x and y axis to feed the sns.barplot() function\n",
    "\n",
    "#Put your code below:\n",
    "\n",
    "import seaborn as sns\n",
    "\n",
    "g= sns.barplot(data=dataframe_1, x='Social media App', y='Monthly active users')\n"
   ]
  },
  {
   "cell_type": "markdown",
   "metadata": {},
   "source": [
    "### It is hard to read the x axis of our plot above. It is common to resize figures in\n",
    "### order to visualise plots more properly (it is not an automatic feature of python)"
   ]
  },
  {
   "cell_type": "code",
   "execution_count": 25,
   "metadata": {},
   "outputs": [
    {
     "data": {
      "image/png": "[encoded data removed]",
      "text/plain": [
       "<Figure size 1224x288 with 1 Axes>"
      ]
     },
     "metadata": {
      "needs_background": "light"
     },
     "output_type": "display_data"
    }
   ],
   "source": [
    "#To resize figures, we need to import another visualisation library called Matplotlib:\n",
    "import matplotlib.pyplot as plt\n",
    "plt.figure(figsize=(17,4)) # figsize= (Width, height in inches)\n",
    "sns.barplot(data=dataframe, x='Social media App', y='Monthly active users')\n",
    "plt.show()"
   ]
  },
  {
   "cell_type": "markdown",
   "metadata": {},
   "source": [
    "### Now our plot looks bigger in width and it's easier to read the x axis to comment our graph. "
   ]
  },
  {
   "cell_type": "code",
   "execution_count": 1,
   "metadata": {},
   "outputs": [
    {
     "name": "stdout",
     "output_type": "stream",
     "text": [
      "From the graph, the number of monthly active users across the different apps vary quite a bit.\n",
      "Facebook, Whatsapp and Youtube have te highest number of active users. Friendster, Flickr, Hi5, MySpace and Orkut have the lowesr active users.\n"
     ]
    }
   ],
   "source": [
    "#Comments the graph regarding the number of monthly active users across different social media apps:\n",
    "# Which social media apps have the highest and lowest number of active users per month?\n",
    "print(\"From the graph, the number of monthly active users across the different apps vary quite a bit.\")\n",
    "print(\"Facebook, Whatsapp and Youtube have te highest number of active users. Friendster, Flickr, Hi5, MySpace and Orkut have the lowesr active users.\") "
   ]
  },
  {
   "cell_type": "markdown",
   "metadata": {},
   "source": [
    "### OPTIONAL TASK"
   ]
  },
  {
   "cell_type": "code",
   "execution_count": 6,
   "metadata": {},
   "outputs": [
    {
     "data": {
      "text/html": [
       "<div>\n",
       "<style scoped>\n",
       "    .dataframe tbody tr th:only-of-type {\n",
       "        vertical-align: middle;\n",
       "    }\n",
       "\n",
       "    .dataframe tbody tr th {\n",
       "        vertical-align: top;\n",
       "    }\n",
       "\n",
       "    .dataframe thead th {\n",
       "        text-align: right;\n",
       "    }\n",
       "</style>\n",
       "<table border=\"1\" class=\"dataframe\">\n",
       "  <thead>\n",
       "    <tr style=\"text-align: right;\">\n",
       "      <th></th>\n",
       "      <th>Social media App</th>\n",
       "      <th>Year</th>\n",
       "      <th>Monthly active users</th>\n",
       "    </tr>\n",
       "  </thead>\n",
       "  <tbody>\n",
       "    <tr>\n",
       "      <th>0</th>\n",
       "      <td>Facebook</td>\n",
       "      <td>2008</td>\n",
       "      <td>1.000000e+08</td>\n",
       "    </tr>\n",
       "    <tr>\n",
       "      <th>1</th>\n",
       "      <td>Facebook</td>\n",
       "      <td>2009</td>\n",
       "      <td>2.760000e+08</td>\n",
       "    </tr>\n",
       "    <tr>\n",
       "      <th>2</th>\n",
       "      <td>Facebook</td>\n",
       "      <td>2010</td>\n",
       "      <td>5.177500e+08</td>\n",
       "    </tr>\n",
       "    <tr>\n",
       "      <th>3</th>\n",
       "      <td>Facebook</td>\n",
       "      <td>2011</td>\n",
       "      <td>7.660000e+08</td>\n",
       "    </tr>\n",
       "    <tr>\n",
       "      <th>4</th>\n",
       "      <td>Facebook</td>\n",
       "      <td>2012</td>\n",
       "      <td>9.797500e+08</td>\n",
       "    </tr>\n",
       "    <tr>\n",
       "      <th>...</th>\n",
       "      <td>...</td>\n",
       "      <td>...</td>\n",
       "      <td>...</td>\n",
       "    </tr>\n",
       "    <tr>\n",
       "      <th>137</th>\n",
       "      <td>YouTube</td>\n",
       "      <td>2014</td>\n",
       "      <td>1.249452e+09</td>\n",
       "    </tr>\n",
       "    <tr>\n",
       "      <th>138</th>\n",
       "      <td>YouTube</td>\n",
       "      <td>2015</td>\n",
       "      <td>1.328133e+09</td>\n",
       "    </tr>\n",
       "    <tr>\n",
       "      <th>139</th>\n",
       "      <td>YouTube</td>\n",
       "      <td>2016</td>\n",
       "      <td>1.399054e+09</td>\n",
       "    </tr>\n",
       "    <tr>\n",
       "      <th>140</th>\n",
       "      <td>YouTube</td>\n",
       "      <td>2017</td>\n",
       "      <td>1.495657e+09</td>\n",
       "    </tr>\n",
       "    <tr>\n",
       "      <th>141</th>\n",
       "      <td>YouTube</td>\n",
       "      <td>2018</td>\n",
       "      <td>1.900000e+09</td>\n",
       "    </tr>\n",
       "  </tbody>\n",
       "</table>\n",
       "<p>142 rows × 3 columns</p>\n",
       "</div>"
      ],
      "text/plain": [
       "    Social media App  Year  Monthly active users\n",
       "0           Facebook  2008          1.000000e+08\n",
       "1           Facebook  2009          2.760000e+08\n",
       "2           Facebook  2010          5.177500e+08\n",
       "3           Facebook  2011          7.660000e+08\n",
       "4           Facebook  2012          9.797500e+08\n",
       "..               ...   ...                   ...\n",
       "137          YouTube  2014          1.249452e+09\n",
       "138          YouTube  2015          1.328133e+09\n",
       "139          YouTube  2016          1.399054e+09\n",
       "140          YouTube  2017          1.495657e+09\n",
       "141          YouTube  2018          1.900000e+09\n",
       "\n",
       "[142 rows x 3 columns]"
      ]
     },
     "execution_count": 6,
     "metadata": {},
     "output_type": "execute_result"
    }
   ],
   "source": [
    "#Calculate the mean of Monthly active users per Social media App and per year using the groupby() method\n",
    "# in one line of code only:\n",
    "import pandas as pd\n",
    "\n",
    "\n",
    "dataframe= pd.read_csv(\"users-socialmedia.csv\")\n",
    "dataframe_1 = dataframe.rename(columns={'Entity': 'Social media App'}) \n",
    "\n",
    "\n",
    "dataframe_1.groupby([\"Social media App\",\"Year\"],as_index=False)[\"Monthly active users\"].mean()"
   ]
  },
  {
   "cell_type": "markdown",
   "metadata": {},
   "source": [
    "### Advanced plotting for your own curiosity:"
   ]
  },
  {
   "cell_type": "code",
   "execution_count": 44,
   "metadata": {},
   "outputs": [
    {
     "data": {
      "image/png": "[encoded data removed]",
      "text/plain": [
       "<Figure size 1440x720 with 1 Axes>"
      ]
     },
     "metadata": {
      "needs_background": "light"
     },
     "output_type": "display_data"
    }
   ],
   "source": [
    "# Advanced plotting for your curiosity:\n",
    "df=dataframe.groupby([\"Social media App\", \"Year\"],as_index=False)[\"Monthly active users\"].mean()\n",
    "plt.figure(figsize=(20,10)) # figsize= (Width, height in inches)\n",
    "sns.barplot(data=df, x='Year', y='Monthly active users', hue= \"Social media App\")\n",
    "plt.legend(loc='upper left')\n",
    "plt.show()"
   ]
  }
 ],
 "metadata": {
  "kernelspec": {
   "display_name": "Python 3.10.5 64-bit",
   "language": "python",
   "name": "python3"
  },
  "language_info": {
   "codemirror_mode": {
    "name": "ipython",
    "version": 3
   },
   "file_extension": ".py",
   "mimetype": "text/x-python",
   "name": "python",
   "nbconvert_exporter": "python",
   "pygments_lexer": "ipython3",
   "version": "3.10.5"
  },
  "orig_nbformat": 4,
  "vscode": {
   "interpreter": {
    "hash": "aeb85421b063f186d75957918962d4ae02ad919a59141ebea0023b107021ffbe"
   }
  }
 },
 "nbformat": 4,
 "nbformat_minor": 2
}

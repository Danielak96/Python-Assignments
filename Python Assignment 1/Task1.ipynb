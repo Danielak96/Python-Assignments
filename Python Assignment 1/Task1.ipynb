{
 "cells": [
  {
   "cell_type": "code",
   "execution_count": 1,
   "metadata": {},
   "outputs": [
    {
     "name": "stdout",
     "output_type": "stream",
     "text": [
      "Your favourite meal is Pasta with a glass of Coke . But for a starter, you look like an Fries type of guy. As far as desserts go, I am getting Cheesecake vibes.\n"
     ]
    }
   ],
   "source": [
    "#Q1\n",
    "\n",
    "user_input_starter = input(\"What is your favourite starter?\")\n",
    "user_input_main = input(\"What is your favourite main?\")\n",
    "user_input_dessert = input(\"What is your favourite dessert?\")\n",
    "user_input_drink = input(\"What is your favourite drink?\")\n",
    "print(\"Your favourite meal is\", user_input_main, \"with a glass of\", user_input_drink,\n",
    " \". But for a starter, you look like an\", user_input_starter, \"type of guy.\"\n",
    " , \"As far as desserts go, I am getting\", user_input_dessert, \"vibes.\" )"
   ]
  },
  {
   "cell_type": "code",
   "execution_count": 2,
   "metadata": {},
   "outputs": [
    {
     "name": "stdout",
     "output_type": "stream",
     "text": [
      "11\n",
      "276\n",
      "1.9166666666666667\n"
     ]
    }
   ],
   "source": [
    " #Q2\n",
    "x = int(input(\"Pick a whole number\"))\n",
    "y = int(input(\"Pick another whole number\"))\n",
    "print(x-y)\n",
    "print(x*y)\n",
    "print(x/y)"
   ]
  },
  {
   "cell_type": "code",
   "execution_count": 3,
   "metadata": {},
   "outputs": [
    {
     "name": "stdout",
     "output_type": "stream",
     "text": [
      "What do you call a bear with no teeth? \n",
      "A gummy bear! Haha\n"
     ]
    }
   ],
   "source": [
    "#Q3\n",
    "\n",
    "Gummy_bear_joke = \"What do you call a bear with no teeth? \\nA gummy bear! Haha\"\n",
    "\n",
    "print(Gummy_bear_joke)"
   ]
  },
  {
   "cell_type": "code",
   "execution_count": 4,
   "metadata": {},
   "outputs": [
    {
     "name": "stdout",
     "output_type": "stream",
     "text": [
      "72 72.0\n"
     ]
    }
   ],
   "source": [
    "#Q4\n",
    "\n",
    "a = int(input(\"Pick a number\"))\n",
    "b = int(input(\"Pick another number\"))\n",
    "print(int(a*b),float(a*b))"
   ]
  },
  {
   "cell_type": "code",
   "execution_count": 5,
   "metadata": {},
   "outputs": [
    {
     "name": "stdout",
     "output_type": "stream",
     "text": [
      "Hello, my name is Daniel and I LxVE to code :)\n",
      "HELLO, MY NAME IS DANIEL AND I LOVE TO CODE :)\n",
      "['Hello, my name is Daniel ', ' I LOVE to code :)']\n"
     ]
    }
   ],
   "source": [
    "#Q5\n",
    "\n",
    "greeting = \"Hello, my name is Daniel and I LOVE to code :)\"\n",
    "\n",
    "print(greeting.replace(\"O\",\"x\"))\n",
    "\n",
    "print(greeting.upper())\n",
    "\n",
    "print(greeting.split(\"and\"))"
   ]
  },
  {
   "cell_type": "code",
   "execution_count": 22,
   "metadata": {},
   "outputs": [
    {
     "name": "stdout",
     "output_type": "stream",
     "text": [
      "How much is the bill, sir?\n",
      "The bill is 720.0 pounds sir\n",
      "Wow it's 720.0 pounds??\n",
      "Yes, sir\n",
      "Woah, well how many dinners were there?\n",
      "There were, 36 dinners sir.\n",
      "Well, can you just divide the cost by the number of dinners please, makes things easier for everyone\n",
      "Sure thing, by my calculations, the cost per person will be 20.0 pounds, how does that sound?\n",
      "Much better thanks\n"
     ]
    }
   ],
   "source": [
    "#STRETCH\n",
    "\n",
    "print(\"How much is the bill, sir?\")\n",
    "dinner_price = (float(input(\"How much is the bill, sir?\")))\n",
    "print(\"The bill is\",dinner_price,\"pounds sir\")\n",
    "print(\"Wow it's\",dinner_price,\"pounds??\")\n",
    "print(\"Yes, sir\")\n",
    "how_many = int(input(\"Woah, well how many dinners were there?\"))\n",
    "print(\"Woah, well how many dinners were there?\")\n",
    "print(\"There were,\",how_many,\"dinners sir.\")\n",
    "print(\"Well, can you just divide the cost by the number of dinners please, makes things easier for everyone\")\n",
    "cost = dinner_price/how_many\n",
    "print(\"Sure thing, by my calculations, the cost per person will be\", cost,\"pounds, how does that sound?\")\n",
    "print(\"Much better thanks\")\n"
   ]
  },
  {
   "cell_type": "code",
   "execution_count": 1,
   "metadata": {},
   "outputs": [
    {
     "name": "stdout",
     "output_type": "stream",
     "text": [
      "3.5\n"
     ]
    }
   ],
   "source": [
    "print(7/2)"
   ]
  },
  {
   "cell_type": "code",
   "execution_count": 2,
   "metadata": {},
   "outputs": [
    {
     "name": "stdout",
     "output_type": "stream",
     "text": [
      "3\n"
     ]
    }
   ],
   "source": [
    "print(7//2)"
   ]
  },
  {
   "cell_type": "code",
   "execution_count": null,
   "metadata": {},
   "outputs": [],
   "source": []
  }
 ],
 "metadata": {
  "kernelspec": {
   "display_name": "Python 3.10.5 64-bit",
   "language": "python",
   "name": "python3"
  },
  "language_info": {
   "codemirror_mode": {
    "name": "ipython",
    "version": 3
   },
   "file_extension": ".py",
   "mimetype": "text/x-python",
   "name": "python",
   "nbconvert_exporter": "python",
   "pygments_lexer": "ipython3",
   "version": "3.10.5"
  },
  "orig_nbformat": 4,
  "vscode": {
   "interpreter": {
    "hash": "aeb85421b063f186d75957918962d4ae02ad919a59141ebea0023b107021ffbe"
   }
  }
 },
 "nbformat": 4,
 "nbformat_minor": 2
}

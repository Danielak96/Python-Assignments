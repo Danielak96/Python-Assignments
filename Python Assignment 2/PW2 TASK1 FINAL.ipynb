{
 "cells": [
  {
   "cell_type": "code",
   "execution_count": null,
   "metadata": {},
   "outputs": [],
   "source": [
    "#Q1 CORRECT!!!!!!\n",
    "\n",
    "while True:\n",
    "    try:\n",
    "        # found on in the internet, creating a loop that allows me to input invalid arguments until i get an integer\n",
    "\n",
    "        no1 = int(input(\"Pick a number\"))\n",
    "        no2 = int(input(\"Pick a second number\"))\n",
    "    except ValueError:\n",
    "        print(\"Could you please put in an integer please\")\n",
    "        continue\n",
    "    else:\n",
    "        break    \n",
    "\n",
    "\n",
    "o = input(\"pick an opeartor from either add, subtract, divide or multiply\") #Choosing one of the 4 operators\n",
    "if o == \"add\": \n",
    "    print(no1+no2)       #Inputting Additon operator\n",
    "elif o == \"subtract\":\n",
    "    print(no1-no2)       #Inputting subtractin operator\n",
    "elif o == \"divide\":\n",
    "    print(no1/no2)       #Inputting division operator\n",
    "elif o == \"multiply\":\n",
    "    print(no1*no2)       #Inputting subtraction operator \n",
    "else: print(\"not a valid operator, try again\")        #Message in case anything other than the operators are not put in\n"
   ]
  }
 ],
 "metadata": {
  "kernelspec": {
   "display_name": "Python 3.10.5 64-bit",
   "language": "python",
   "name": "python3"
  },
  "language_info": {
   "name": "python",
   "version": "3.10.5"
  },
  "orig_nbformat": 4,
  "vscode": {
   "interpreter": {
    "hash": "aeb85421b063f186d75957918962d4ae02ad919a59141ebea0023b107021ffbe"
   }
  }
 },
 "nbformat": 4,
 "nbformat_minor": 2
}

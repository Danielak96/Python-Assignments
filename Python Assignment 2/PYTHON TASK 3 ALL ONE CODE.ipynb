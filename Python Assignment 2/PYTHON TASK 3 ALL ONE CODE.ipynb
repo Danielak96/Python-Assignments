{
 "cells": [
  {
   "cell_type": "code",
   "execution_count": 7,
   "metadata": {},
   "outputs": [],
   "source": [
    "#Q3\n",
    "def atmfunction():\n",
    "\n",
    "\n",
    "    print(\"Main Menu:\")                   #Creating the main menu for the ATM and it's options.\n",
    "    print(\"Welcome to Northern Frock:\")\n",
    "    print(\"1 - Display Balance\")\n",
    "    print(\"2 - Withdraw Funds\")\n",
    "    print(\"3 - Deposit Funds\")\n",
    "    print(\"9 - Return Card\")\n",
    "\n",
    "    option = int(input(\"Please select which option you'd like\"))    #Creating the input for an option\n",
    "    cbalance = int(input(\"Choose a value for your balance\"))        #I don't know how they would get a balance unless it's made up? So I put an option for a balance.\n",
    "\n",
    "\n",
    "    if option == 1:\n",
    "            print(\"Your available balance is\",\"£\",cbalance)  #When 1 is entered, you get the balance entered initially and the max withdrawal\n",
    "            print(\"The Maximum withdrawal is £100\")              #I chose a value of £100 to be the max withdrawal\n",
    "            print(\"Return to the main menu\")\n",
    "    elif option == 2:\n",
    "            print(\"Please select withdrawal amount of:\")         #When option is 2 is picked, a a submenu is printed\n",
    "            print(\"1 - £10\")\n",
    "            print(\"2 - £20\")\n",
    "            print(\"3 - £40\")\n",
    "            print(\"4 - £60\")\n",
    "            print(\"5 - £80\")\n",
    "            print(\"6 - £100\")\n",
    "            print(\"7 - Other Amount\")\n",
    "            print(\"8 - Return to Main Menu\")\n",
    "            wdamount = int(input(\"Please select a withdrawal amount\"))     #Defining the withdrawal amount that the person wants to withdraw\n",
    "            newbalance = cbalance - wdamount       #Defining the newbalance to calcaulate current balance - withdrawal amount\n",
    "            if wdamount == 10 or wdamount == 20 or wdamount == 40 or wdamount == 60 or wdamount == 80 or wdamount == 100:  #10,20,40,60,80 and 100 are the only amounts allowed.\n",
    "                print(\"Thanks, £\",wdamount,\"has been withdrawn, you now have\",\"£\",newbalance,\"in your account.\")   # Get's a message with new balance\n",
    "            elif wdamount == 7:            \n",
    "                otheramount = int(input(\"How much would you like to withdraw?\"))       #Asks for the amount he'd like to withdraw, if not from 1 to 6 \n",
    "                newotherbalance = cbalance - otheramount    #Defining the balance after an other amount has been withdrawn\n",
    "                if otheramount % 10 == 0 and otheramount <= 100:       #The restrictions on the max amount and it having to be a multiple of 10\n",
    "                    print(\"Thanks, £\",otheramount,\"has been withdrawn, you now have, £\",newotherbalance,\"in your account.\")   #Message with the balance \n",
    "                else: print(\"Invalid amount, please choose an amount from the submenu with withdrawal amounts\")   #Message showing the number entered didn't meet the constraints \n",
    "            elif wdamount == 8:\n",
    "                print(\"We will return to the main menu\")   #When 8 is entered we return to the menu     \n",
    "            else: print(\"Invalid amount, please choose an amount from the submenu with withdrawal amounts\")   #If a number that is not 1 to 8 is picked from the submenu you get an error\n",
    "    elif option == 3:\n",
    "            print(\"1 - Deposit an amount\")    #submenu for option 3\n",
    "            print(\"2 - Return to Main Menu\")\n",
    "            print(\"3 - Return Card\")\n",
    "            optthreemenu = int(input(\"Please select one of the options\"))         #Allows the user to enter a number from the submenu \n",
    "            if optthreemenu == 1:                                                 #First option, making a deposit \n",
    "                depamount = int(input(\"Please select an amount to deposit\"))      #The amount the person wants to deposit, this can be any amount\n",
    "                newdepbalance = cbalance + depamount                              #defining the balance after the deposit\n",
    "                print(\"Thanks, you now have £\",newdepbalance,\"in your account\")   #A message with the new balance\n",
    "            elif optthreemenu == 2:                                               \n",
    "                print(\"We will return to the menu\")                                #Print message returning to the menu\n",
    "            elif optthreemenu == 3:\n",
    "                print(\"Returning your card\")                                       #Print message returning their card from the submenu\n",
    "            else: print(\"Invalid option please pick numbers 1,2 or 3.\")            #Print message in case a number from the submenu is not picked\n",
    "    elif option == 9:\n",
    "            print(\"Goodbye, your card will now be returned\")                       #Print message returning to the card if 9 is picked\n",
    "    else: print(\"Error, please select an option from the Menu\")                #Error showing an invalid option was picked from the main menu"
   ]
  },
  {
   "cell_type": "code",
   "execution_count": 13,
   "metadata": {},
   "outputs": [
    {
     "name": "stdout",
     "output_type": "stream",
     "text": [
      "Main Menu:\n",
      "Welcome to Northern Frock:\n",
      "1 - Display Balance\n",
      "2 - Withdraw Funds\n",
      "3 - Deposit Funds\n",
      "9 - Return Card\n",
      "Please select withdrawal amount of:\n",
      "1 - £10\n",
      "2 - £20\n",
      "3 - £40\n",
      "4 - £60\n",
      "5 - £80\n",
      "6 - £100\n",
      "7 - Other Amount\n",
      "8 - Return to Main Menu\n",
      "Invalid amount, please choose an amount from the submenu with withdrawal amounts\n"
     ]
    }
   ],
   "source": [
    "atmfunction()    #Checking my function works"
   ]
  }
 ],
 "metadata": {
  "kernelspec": {
   "display_name": "Python 3.10.5 64-bit",
   "language": "python",
   "name": "python3"
  },
  "language_info": {
   "codemirror_mode": {
    "name": "ipython",
    "version": 3
   },
   "file_extension": ".py",
   "mimetype": "text/x-python",
   "name": "python",
   "nbconvert_exporter": "python",
   "pygments_lexer": "ipython3",
   "version": "3.10.5"
  },
  "orig_nbformat": 4,
  "vscode": {
   "interpreter": {
    "hash": "aeb85421b063f186d75957918962d4ae02ad919a59141ebea0023b107021ffbe"
   }
  }
 },
 "nbformat": 4,
 "nbformat_minor": 2
}

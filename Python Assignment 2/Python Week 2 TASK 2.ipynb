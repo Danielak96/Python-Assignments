{
 "cells": [
  {
   "cell_type": "code",
   "execution_count": 2,
   "metadata": {},
   "outputs": [],
   "source": [
    "#Q2 \n",
    "def numberjoke():\n",
    "\n",
    "    number = int(input(\"Pick a number between 1 and 100\"))  #Splitting the 3 jokes, 1st set of numbers between 1 and 33\n",
    "    if number == 1 or number <= 33:\n",
    "        print(\"That's a very weak number\")\n",
    "    elif number == 34 or number <= 66:                     #Second set between 34 and 66\n",
    "        print(\"That number isn't the worst\")\n",
    "    elif number == 67 or number <= 100:                    #3rd set between 67 and 100\n",
    "        print(\"OKay, now we're talking!\")\n",
    "    else: print(\"I said between 1 and 100, I don't know any other numbers :), sorry\")      #An output just in case the input isn't correct\n"
   ]
  },
  {
   "cell_type": "code",
   "execution_count": 3,
   "metadata": {},
   "outputs": [
    {
     "name": "stdout",
     "output_type": "stream",
     "text": [
      "That's a very weak number\n"
     ]
    }
   ],
   "source": [
    "#Calling my functin and testing it works\n",
    "\n",
    "numberjoke()"
   ]
  }
 ],
 "metadata": {
  "kernelspec": {
   "display_name": "Python 3.10.5 64-bit",
   "language": "python",
   "name": "python3"
  },
  "language_info": {
   "codemirror_mode": {
    "name": "ipython",
    "version": 3
   },
   "file_extension": ".py",
   "mimetype": "text/x-python",
   "name": "python",
   "nbconvert_exporter": "python",
   "pygments_lexer": "ipython3",
   "version": "3.10.5"
  },
  "orig_nbformat": 4,
  "vscode": {
   "interpreter": {
    "hash": "aeb85421b063f186d75957918962d4ae02ad919a59141ebea0023b107021ffbe"
   }
  }
 },
 "nbformat": 4,
 "nbformat_minor": 2
}

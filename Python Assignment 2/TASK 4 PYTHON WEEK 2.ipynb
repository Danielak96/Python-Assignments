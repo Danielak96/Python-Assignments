{
 "cells": [
  {
   "cell_type": "code",
   "execution_count": 3,
   "metadata": {},
   "outputs": [
    {
     "name": "stdout",
     "output_type": "stream",
     "text": [
      "['apples', 'oranges', 'pears']\n",
      "oranges\n"
     ]
    }
   ],
   "source": [
    "#Q1 \n",
    "\n",
    "\n",
    "fruits = [\"apples\",\"oranges\",\"pears\"] #Creating my list of three fruits\n",
    "\n",
    "print(fruits)   #Printing the fruits in th list\n",
    "\n",
    "print(fruits[1])    #Printing 2nd fruit in the list"
   ]
  },
  {
   "cell_type": "code",
   "execution_count": 12,
   "metadata": {},
   "outputs": [
    {
     "name": "stdout",
     "output_type": "stream",
     "text": [
      "{'grapes', 'kiwi', 'banana', 'melon'}\n",
      "{'banana', 'kiwi', 'melon', 'lemon', 'grapes'}\n",
      "{'banana', 'kiwi', 'melon', 'lemon', 'grapes'}\n"
     ]
    }
   ],
   "source": [
    "#Q2\n",
    "\n",
    "fruit_set = {\"banana\",\"kiwi\",\"grapes\",\"melon\"}    #creating my fruit set\n",
    "\n",
    "print(fruit_set)       #outputting my set\n",
    "fruit_set.add(\"lemon\")   #adding the fruit lemon to my set\n",
    "print(fruit_set)\n",
    "fruit_set.add(\"lemon\")    #Attempts to add the same value\n",
    "print(fruit_set)      #Set does not change as Sets cannot contain duplicates"
   ]
  },
  {
   "cell_type": "code",
   "execution_count": 10,
   "metadata": {},
   "outputs": [
    {
     "name": "stdout",
     "output_type": "stream",
     "text": [
      "£0.67\n",
      "banana\n",
      "kiwi\n",
      "pear\n",
      "apples\n"
     ]
    }
   ],
   "source": [
    "#Q3\n",
    "\n",
    "fruit_dictionary = {\"banana\":\"£0.70\",\"kiwi\":\"£0.67\",\"pear\":\"£0.87\",\"apples\":\"£0.89\"}\n",
    "list(fruit_dictionary.keys())\n"
   ]
  },
  {
   "cell_type": "code",
   "execution_count": 3,
   "metadata": {},
   "outputs": [
    {
     "name": "stdout",
     "output_type": "stream",
     "text": [
      "£0.70\n",
      "Fruit not available\n",
      "Fruit not available\n",
      "Fruit not available\n"
     ]
    }
   ],
   "source": [
    "fruit_dictionary = {\"banana\":\"£0.70\",\"kiwi\":\"£0.67\",\"pear\":\"£0.87\",\"apples\":\"£0.89\"}\n",
    "search_price = input(\"What fruit would you like to know the price of?\")\n",
    "for fruit in fruit_dictionary.keys():\n",
    "    if fruit == search_price:\n",
    "        price = fruit_dictionary[fruit]\n",
    "        print(price)\n",
    "    else: print(\"Fruit not available\")"
   ]
  },
  {
   "cell_type": "code",
   "execution_count": 20,
   "metadata": {},
   "outputs": [
    {
     "name": "stdout",
     "output_type": "stream",
     "text": [
      "{'daniel ': '56700', 'james': '34566', 'robert': '100000'}\n"
     ]
    }
   ],
   "source": [
    "employees = {}              # Randon code I found to help me, not part of my answer \n",
    "\n",
    "for i in range(3):\n",
    "    name = input(\"Enter employee's name: \")\n",
    "    salary = input(\"Enter employee's salary: \")\n",
    "\n",
    "    employees[name] = salary\n",
    "\n",
    "\n",
    "# 👇️ {'Alice': '100', 'Bob': '100', 'Carl': '100'}\n",
    "print(employees)"
   ]
  },
  {
   "cell_type": "code",
   "execution_count": 58,
   "metadata": {},
   "outputs": [],
   "source": [
    "dictionary = {'george': 16, 'amber': 19}   #Random code\n",
    "search_age = input(\"Provide age\")\n",
    "for name, age in dictionary.items():  # for name, age in dictionary.iteritems():  (for Python 2.x)\n",
    "    if age == search_age:\n",
    "        print(name)"
   ]
  }
 ],
 "metadata": {
  "kernelspec": {
   "display_name": "Python 3.10.5 64-bit",
   "language": "python",
   "name": "python3"
  },
  "language_info": {
   "codemirror_mode": {
    "name": "ipython",
    "version": 3
   },
   "file_extension": ".py",
   "mimetype": "text/x-python",
   "name": "python",
   "nbconvert_exporter": "python",
   "pygments_lexer": "ipython3",
   "version": "3.10.5"
  },
  "orig_nbformat": 4,
  "vscode": {
   "interpreter": {
    "hash": "aeb85421b063f186d75957918962d4ae02ad919a59141ebea0023b107021ffbe"
   }
  }
 },
 "nbformat": 4,
 "nbformat_minor": 2
}

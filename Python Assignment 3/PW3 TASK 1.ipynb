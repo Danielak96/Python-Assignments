{
 "cells": [
  {
   "cell_type": "code",
   "execution_count": 10,
   "metadata": {},
   "outputs": [
    {
     "name": "stdout",
     "output_type": "stream",
     "text": [
      "Year 20222 Bikevalue 2000.0\n",
      "Year 20223 Bikevalue 1800.0\n",
      "Year 20224 Bikevalue 1620.0\n",
      "Year 20225 Bikevalue 1458.0\n",
      "Year 20226 Bikevalue 1312.2\n",
      "Year 20227 Bikevalue 1180.98\n",
      "Year 20228 Bikevalue 1062.882\n"
     ]
    }
   ],
   "source": [
    "#Q1 \n",
    "def yearlybikevalue():\n",
    "\n",
    "    bikevalue = float(input(\"How much does your bike cost currently?\"))     #Inputting the cost of the bike\n",
    "    year = int(input(\"What is the year?\"))            #Inputting the current year\n",
    "\n",
    "    while bikevalue > 1000:               # While loop making sure iteration runs while the value of the bike is greater than 1000\n",
    "        print(\"Year\",year,\"Bikevalue\",bikevalue) \n",
    "        year = year + 1               #Makes sure the year increases by 1 as the value of the bike is calculated for that specific year\n",
    "        bikevalue = bikevalue*0.9     #Value of the bike decreases by 10%\n",
    "yearlybikevalue()\n",
    "    "
   ]
  }
 ],
 "metadata": {
  "kernelspec": {
   "display_name": "Python 3.10.5 64-bit",
   "language": "python",
   "name": "python3"
  },
  "language_info": {
   "codemirror_mode": {
    "name": "ipython",
    "version": 3
   },
   "file_extension": ".py",
   "mimetype": "text/x-python",
   "name": "python",
   "nbconvert_exporter": "python",
   "pygments_lexer": "ipython3",
   "version": "3.10.5"
  },
  "orig_nbformat": 4,
  "vscode": {
   "interpreter": {
    "hash": "aeb85421b063f186d75957918962d4ae02ad919a59141ebea0023b107021ffbe"
   }
  }
 },
 "nbformat": 4,
 "nbformat_minor": 2
}

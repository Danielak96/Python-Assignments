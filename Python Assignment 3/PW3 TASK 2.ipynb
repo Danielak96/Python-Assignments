{
 "cells": [
  {
   "cell_type": "code",
   "execution_count": 1,
   "metadata": {},
   "outputs": [
    {
     "name": "stdout",
     "output_type": "stream",
     "text": [
      "There are 2 vowels in your word\n"
     ]
    }
   ],
   "source": [
    "#Q2\n",
    "def vowelcounter():\n",
    "\n",
    "    fruitword = str(input(\"Enter a fruit, any fruit of your choice\"))         #User enters a word\n",
    "    count_vowel = 0          #The initial count of the vowels in the word starts at 0\n",
    "    vowels = set(\"aeiouAEIOU\")        #All the possible vowels which are case sensitive\n",
    "\n",
    "    for x in fruitword:          #for any letter in the word the user typed in\n",
    "        if x in vowels:          #If the letter is in the set \"vowels\"\n",
    "            count_vowel = count_vowel + 1         #Increase the vowel count by 1\n",
    "    print(\"There are\",count_vowel,\"vowels in your word\")         #Tells you how many vowels were found in the word the user typed in\n",
    "vowelcounter()\n"
   ]
  }
 ],
 "metadata": {
  "kernelspec": {
   "display_name": "Python 3.10.5 64-bit",
   "language": "python",
   "name": "python3"
  },
  "language_info": {
   "codemirror_mode": {
    "name": "ipython",
    "version": 3
   },
   "file_extension": ".py",
   "mimetype": "text/x-python",
   "name": "python",
   "nbconvert_exporter": "python",
   "pygments_lexer": "ipython3",
   "version": "3.10.5"
  },
  "orig_nbformat": 4,
  "vscode": {
   "interpreter": {
    "hash": "aeb85421b063f186d75957918962d4ae02ad919a59141ebea0023b107021ffbe"
   }
  }
 },
 "nbformat": 4,
 "nbformat_minor": 2
}

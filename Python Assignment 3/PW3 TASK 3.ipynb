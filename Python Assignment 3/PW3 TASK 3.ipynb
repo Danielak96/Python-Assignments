{
 "cells": [
  {
   "cell_type": "code",
   "execution_count": 1,
   "metadata": {},
   "outputs": [
    {
     "name": "stdout",
     "output_type": "stream",
     "text": [
      "The volume of your object is 144.0 cubic units.\n"
     ]
    }
   ],
   "source": [
    "#q3\n",
    "\n",
    "def volume(DEPTH,WIDTH,HEIGHT):         #defining the function for calculating volume\n",
    "    print(\"The volume of your object is\",vol,\"cubic units.\")       \n",
    "\n",
    "\n",
    "depth = float(input(\"What is the depth of your object?\"))       #user inputs a depth\n",
    "width = float(input(\"What is the width of your object?\"))       #User inputs a width\n",
    "height = float(input(\"What is the height of your object?\"))     #User inputs a height\n",
    "vol = depth*width*height           #Creating the variable which is calculation of the three variables multiplied togehter\n",
    "\n",
    "volume(depth,width,height)        \n",
    "    "
   ]
  },
  {
   "cell_type": "code",
   "execution_count": null,
   "metadata": {},
   "outputs": [],
   "source": []
  }
 ],
 "metadata": {
  "kernelspec": {
   "display_name": "Python 3.10.5 64-bit",
   "language": "python",
   "name": "python3"
  },
  "language_info": {
   "codemirror_mode": {
    "name": "ipython",
    "version": 3
   },
   "file_extension": ".py",
   "mimetype": "text/x-python",
   "name": "python",
   "nbconvert_exporter": "python",
   "pygments_lexer": "ipython3",
   "version": "3.10.5"
  },
  "orig_nbformat": 4,
  "vscode": {
   "interpreter": {
    "hash": "aeb85421b063f186d75957918962d4ae02ad919a59141ebea0023b107021ffbe"
   }
  }
 },
 "nbformat": 4,
 "nbformat_minor": 2
}

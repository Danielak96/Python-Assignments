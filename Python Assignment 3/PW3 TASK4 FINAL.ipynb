{
 "cells": [
  {
   "cell_type": "code",
   "execution_count": 6,
   "metadata": {},
   "outputs": [
    {
     "name": "stdout",
     "output_type": "stream",
     "text": [
      "Pythagoras' Calculator\n",
      "1 - Find the length of a given b and c\n",
      "2 - Find the length of b given a and c\n",
      "3 – Find the length of c given a and b\n",
      "9 - Exit\n",
      "The length of b is 4.0 cm\n"
     ]
    }
   ],
   "source": [
    "def pythagcalc():          #defining my function\n",
    "\n",
    "    import math\n",
    "    print(\"Pythagoras' Calculator\")                  #Printing a menu\n",
    "    print(\"1 - Find the length of a given b and c\")\n",
    "    print(\"2 - Find the length of b given a and c\")\n",
    "    print(\"3 – Find the length of c given a and b\")\n",
    "    print(\"9 - Exit\")\n",
    "\n",
    "    option = int(input(\"Enter an option\"))         #User enters an option from the menu\n",
    "\n",
    "    if option == 1:                                   #If option 1 is picked, calculate the value of a using Pythag\n",
    "        b = float(input(\"What is the value for b?\"))     #User inputs a value for b and c, must be a float\n",
    "        c = float(input(\"What is the value for c?\"))\n",
    "        a = math.sqrt(c*c-b*b)\n",
    "        print(\"The length of a is\",a,\"cm\")            #Print message with the value of a \n",
    "    elif option == 2:                               #If option 2 is picked, calculate b using Pythag\n",
    "            a = float(input(\"What is the value for a?\"))         \n",
    "            c = float(input(\"What is the value for c?\"))\n",
    "            b = math.sqrt(c*c-a*a)\n",
    "            print(\"The length of b is\",b,\"cm\")      #Print message with the result\n",
    "    elif option == 3:                               #If option 3 is picked calculate c is using Pythag\n",
    "            a = float(input(\"What is the value for a?\"))\n",
    "            b = float(input(\"What is the value for b?\"))\n",
    "            c = math.sqrt(a*a+b*b)\n",
    "            print(\"The length of c is\",c,\"cm\")           #Print message with the result \n",
    "    elif option == 9:                       #If option 9 is picked, print an exit message\n",
    "        print(\"Goodbye, we will now exit the program.\")\n",
    "    else: print(\"Invalid option, please pick a valid option from the menu.\")          #If a number that is not 1,2,3 or 9 is picked, print an invalid message\n",
    "\n",
    "pythagcalc()"
   ]
  }
 ],
 "metadata": {
  "kernelspec": {
   "display_name": "Python 3.10.5 64-bit",
   "language": "python",
   "name": "python3"
  },
  "language_info": {
   "codemirror_mode": {
    "name": "ipython",
    "version": 3
   },
   "file_extension": ".py",
   "mimetype": "text/x-python",
   "name": "python",
   "nbconvert_exporter": "python",
   "pygments_lexer": "ipython3",
   "version": "3.10.5"
  },
  "orig_nbformat": 4,
  "vscode": {
   "interpreter": {
    "hash": "aeb85421b063f186d75957918962d4ae02ad919a59141ebea0023b107021ffbe"
   }
  }
 },
 "nbformat": 4,
 "nbformat_minor": 2
}
